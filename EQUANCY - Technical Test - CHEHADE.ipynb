{
 "cells": [
  {
   "cell_type": "code",
   "execution_count": 84,
   "id": "52669f20",
   "metadata": {},
   "outputs": [],
   "source": [
    "import pandas as pd\n",
    "import numpy as np\n",
    "import os\n",
    "import matplotlib.pyplot as plt\n",
    "import seaborn as sns\n",
    "\n",
    "import time\n",
    "import datetime as dt\n",
    "\n",
    "from datetime import timedelta"
   ]
  },
  {
   "cell_type": "code",
   "execution_count": 160,
   "id": "3699cdc0",
   "metadata": {},
   "outputs": [],
   "source": [
    "from sklearn.ensemble import RandomForestClassifier\n",
    "from sklearn.metrics import log_loss, accuracy_score, classification_report, silhouette_score\n",
    "from sklearn.model_selection import train_test_split\n",
    "from sklearn.preprocessing import OrdinalEncoder, LabelEncoder\n",
    "from sklearn.preprocessing import StandardScaler\n",
    "from sklearn.cluster import KMeans\n",
    "from sklearn.inspection import permutation_importance"
   ]
  },
  {
   "cell_type": "code",
   "execution_count": 237,
   "id": "29057051",
   "metadata": {},
   "outputs": [],
   "source": [
    "from scipy.spatial.distance import pdist, squareform\n",
    "from scipy.cluster.hierarchy import linkage, dendrogram, cut_tree, fcluster"
   ]
  },
  {
   "cell_type": "markdown",
   "id": "3e24b0a5",
   "metadata": {},
   "source": [
    "### Useful functions"
   ]
  },
  {
   "cell_type": "code",
   "execution_count": 4,
   "id": "9f956d27",
   "metadata": {},
   "outputs": [],
   "source": [
    "def get_stats(db,col_list):\n",
    "    \n",
    "    \"\"\"\n",
    "    Calculate basic stats for column specified\n",
    "    You can add multiple columns\n",
    "    Returns a dataframe with the stats\n",
    "    \n",
    "    db: dataframe \n",
    "    col_list: set a list of columns, e.g. [col1, col2]\n",
    "    \n",
    "    \"\"\"\n",
    "    \n",
    "    stats_db = pd.DataFrame() #create empty dataframe\n",
    "    \n",
    "    for col in col_list:\n",
    "        stats_db_feature = pd.DataFrame()\n",
    "        s_mean = db[col].mean()\n",
    "        s_med = db[col].median()\n",
    "        s_std = db[col].std()\n",
    "        s_min = db[col].min()\n",
    "        s_max = db[col].max()\n",
    "    \n",
    "        stats_db_feature = pd.DataFrame({'Feature': [col],\\\n",
    "                                 'Mean': [s_mean],\\\n",
    "                                 'Median': [s_med],\\\n",
    "                                 'STD': [s_std],\\\n",
    "                                 'MIN': [s_min],\\\n",
    "                                 'MAX': [s_max]})\n",
    "    \n",
    "        stats_db = pd.concat([stats_db,stats_db_feature], axis=0)\n",
    "    \n",
    "    return stats_db\n",
    "    "
   ]
  },
  {
   "cell_type": "markdown",
   "id": "0b9ef714",
   "metadata": {},
   "source": [
    "### Import Dataset"
   ]
  },
  {
   "cell_type": "code",
   "execution_count": 5,
   "id": "27d74088",
   "metadata": {},
   "outputs": [
    {
     "name": "stdout",
     "output_type": "stream",
     "text": [
      "This is the input path:  C:\\Users\\marianne.chehade\\OneDrive - Ekimetrics\\Desktop\\Perso\\Training\\Input\n",
      "This is the output path:  C:\\Users\\marianne.chehade\\OneDrive - Ekimetrics\\Desktop\\Perso\\Training\\Output\n"
     ]
    }
   ],
   "source": [
    "# Set up input and output path\n",
    "input_path = os.getcwd()+'\\\\Input'\n",
    "output_path = os.getcwd()+'\\\\Output'\n",
    "\n",
    "print('This is the input path: ',input_path)\n",
    "print('This is the output path: ', output_path)"
   ]
  },
  {
   "cell_type": "code",
   "execution_count": 6,
   "id": "df73b6d3",
   "metadata": {},
   "outputs": [
    {
     "data": {
      "text/html": [
       "<div>\n",
       "<style scoped>\n",
       "    .dataframe tbody tr th:only-of-type {\n",
       "        vertical-align: middle;\n",
       "    }\n",
       "\n",
       "    .dataframe tbody tr th {\n",
       "        vertical-align: top;\n",
       "    }\n",
       "\n",
       "    .dataframe thead th {\n",
       "        text-align: right;\n",
       "    }\n",
       "</style>\n",
       "<table border=\"1\" class=\"dataframe\">\n",
       "  <thead>\n",
       "    <tr style=\"text-align: right;\">\n",
       "      <th></th>\n",
       "      <th>Entreprise</th>\n",
       "      <th>Metier</th>\n",
       "      <th>Technologies</th>\n",
       "      <th>Diplome</th>\n",
       "      <th>Experience</th>\n",
       "      <th>Ville</th>\n",
       "    </tr>\n",
       "  </thead>\n",
       "  <tbody>\n",
       "    <tr>\n",
       "      <th>0</th>\n",
       "      <td>Sanofi</td>\n",
       "      <td>Data scientist</td>\n",
       "      <td>Matlab/Python/Pyspark/Scikit-learn/Tensorflow</td>\n",
       "      <td>Master</td>\n",
       "      <td>1</td>\n",
       "      <td>Paris</td>\n",
       "    </tr>\n",
       "    <tr>\n",
       "      <th>1</th>\n",
       "      <td>Massachusetts General Hospital(MGH)</td>\n",
       "      <td>Data architecte</td>\n",
       "      <td>Python/Java/Scala/MongoDB</td>\n",
       "      <td>Master</td>\n",
       "      <td>3</td>\n",
       "      <td>Marseille</td>\n",
       "    </tr>\n",
       "    <tr>\n",
       "      <th>2</th>\n",
       "      <td>Delve</td>\n",
       "      <td>Lead data scientist</td>\n",
       "      <td>SPSS/SQL/Teradata/R/Python/Tensorflow/scikit-l...</td>\n",
       "      <td>Master</td>\n",
       "      <td>3</td>\n",
       "      <td>Nantes</td>\n",
       "    </tr>\n",
       "    <tr>\n",
       "      <th>3</th>\n",
       "      <td>Ann &amp; Robert H. Lurie Children’s Hospital of C...</td>\n",
       "      <td>Data scientist</td>\n",
       "      <td>C/C++/Java/Python</td>\n",
       "      <td>Master</td>\n",
       "      <td>1,5</td>\n",
       "      <td>Marseille</td>\n",
       "    </tr>\n",
       "  </tbody>\n",
       "</table>\n",
       "</div>"
      ],
      "text/plain": [
       "                                          Entreprise               Metier  \\\n",
       "0                                             Sanofi       Data scientist   \n",
       "1                Massachusetts General Hospital(MGH)      Data architecte   \n",
       "2                                              Delve  Lead data scientist   \n",
       "3  Ann & Robert H. Lurie Children’s Hospital of C...       Data scientist   \n",
       "\n",
       "                                        Technologies Diplome Experience  \\\n",
       "0      Matlab/Python/Pyspark/Scikit-learn/Tensorflow  Master          1   \n",
       "1                          Python/Java/Scala/MongoDB  Master          3   \n",
       "2  SPSS/SQL/Teradata/R/Python/Tensorflow/scikit-l...  Master          3   \n",
       "3                                  C/C++/Java/Python  Master        1,5   \n",
       "\n",
       "       Ville  \n",
       "0      Paris  \n",
       "1  Marseille  \n",
       "2     Nantes  \n",
       "3  Marseille  "
      ]
     },
     "execution_count": 6,
     "metadata": {},
     "output_type": "execute_result"
    }
   ],
   "source": [
    "# Import dataset\n",
    "\n",
    "df = pd.read_csv(os.path.join(input_path,'data.csv'), sep=',')\n",
    "df.head(4)"
   ]
  },
  {
   "cell_type": "code",
   "execution_count": 7,
   "id": "0a61c3f1",
   "metadata": {},
   "outputs": [
    {
     "name": "stdout",
     "output_type": "stream",
     "text": [
      "<class 'pandas.core.frame.DataFrame'>\n",
      "RangeIndex: 9582 entries, 0 to 9581\n",
      "Data columns (total 6 columns):\n",
      " #   Column        Non-Null Count  Dtype \n",
      "---  ------        --------------  ----- \n",
      " 0   Entreprise    9565 non-null   object\n",
      " 1   Metier        9563 non-null   object\n",
      " 2   Technologies  9582 non-null   object\n",
      " 3   Diplome       9582 non-null   object\n",
      " 4   Experience    9488 non-null   object\n",
      " 5   Ville         9582 non-null   object\n",
      "dtypes: object(6)\n",
      "memory usage: 449.3+ KB\n"
     ]
    }
   ],
   "source": [
    "df.info()"
   ]
  },
  {
   "cell_type": "code",
   "execution_count": 8,
   "id": "19897742",
   "metadata": {},
   "outputs": [],
   "source": [
    "# Transform Experience to Float\n",
    "df.Experience = pd.to_numeric(df.Experience.str.replace(',','.'))"
   ]
  },
  {
   "cell_type": "markdown",
   "id": "77deba23",
   "metadata": {},
   "source": [
    "## Exploratory Analysis"
   ]
  },
  {
   "cell_type": "markdown",
   "id": "da5b4602",
   "metadata": {},
   "source": [
    "We are going to check the dataset to see if it's clean and useful"
   ]
  },
  {
   "cell_type": "code",
   "execution_count": 9,
   "id": "2e60f185",
   "metadata": {
    "scrolled": false
   },
   "outputs": [
    {
     "name": "stdout",
     "output_type": "stream",
     "text": [
      "Values in Metier:  ['Data scientist', 'Data architecte', 'Lead data scientist', 'Data engineer', nan]  with  19  missing value(s)\n",
      "Values in Diplome:  ['Master', 'Phd', 'Bachelor', 'No diploma']  with  0  missing value(s)\n",
      "Values in Experience:  [1.0, 3.0, 1.5, nan, 6.0, 0.0, 4.0, 8.0, 5.0, 0.5, 2.0, 3.5, 9.0, 7.0, 2.5, 13.0, 17.0, 12.0, 10.0, 11.0, 15.0, 21.0]  with  94  missing value(s)\n",
      "Values in Ville:  ['Paris', 'Marseille', 'Nantes', 'Bordeaux', 'Lille', 'Toulouse', 'Rouen', 'Lyon', 'Strasbourg', 'Grenoble', 'Nice', 'Toulon', 'Montpellier', 'Rennes']  with  0  missing value(s)\n"
     ]
    }
   ],
   "source": [
    "# Verify the different categories & values in each column and missing values\n",
    "\n",
    "print('Values in Metier: ',list(df.Metier.unique()),' with ', df.Metier.isna().sum(),' missing value(s)')\n",
    "print('Values in Diplome: ',list(df.Diplome.unique()),' with ', df.Diplome.isna().sum(),' missing value(s)')\n",
    "print('Values in Experience: ',list(df.Experience.unique()),' with ', df.Experience.isna().sum(),' missing value(s)')\n",
    "print('Values in Ville: ',list(df.Ville.unique()),' with ', df.Ville.isna().sum(),' missing value(s)')"
   ]
  },
  {
   "cell_type": "markdown",
   "id": "309ce100",
   "metadata": {},
   "source": [
    "#### Focus on: Experience"
   ]
  },
  {
   "cell_type": "markdown",
   "id": "0830de5e",
   "metadata": {},
   "source": [
    "* There 94 missing values for experience - we will replace them by the mean of each \"Metier\"\n",
    "* Get some basic stats on Experience: Mean, Median, STD, Min & Max"
   ]
  },
  {
   "cell_type": "code",
   "execution_count": 10,
   "id": "9f0a2615",
   "metadata": {},
   "outputs": [
    {
     "data": {
      "text/plain": [
       "Metier\n",
       "Data scientist         3865\n",
       "Data engineer          2347\n",
       "Data architecte        2123\n",
       "Lead data scientist    1228\n",
       "Unknown                  19\n",
       "Name: count, dtype: int64"
      ]
     },
     "execution_count": 10,
     "metadata": {},
     "output_type": "execute_result"
    }
   ],
   "source": [
    "#Intermediary Treatment: we will replace NaN values in \"Metier\" by \"Unknown\"\n",
    "\n",
    "df_adjusted = df.copy()\n",
    "df_adjusted['Metier'].fillna('Unknown', inplace=True)\n",
    "df_adjusted.Metier.value_counts(dropna=False)"
   ]
  },
  {
   "cell_type": "code",
   "execution_count": 11,
   "id": "aaeb588f",
   "metadata": {},
   "outputs": [
    {
     "name": "stdout",
     "output_type": "stream",
     "text": [
      "Missing values in Experience:  0\n"
     ]
    }
   ],
   "source": [
    "# Replace missing values in Experience by the mean of each job category\n",
    "\n",
    "df_filled = df_adjusted.copy()\n",
    "\n",
    "for metier in df_adjusted.Metier.unique():\n",
    "    \n",
    "    avg = df_adjusted[df_adjusted.Metier == metier]['Experience'].mean() #get mean for the current job\n",
    "    \n",
    "    df_filled.loc[df_filled.Metier == metier, 'Experience'] = \\\n",
    "    df_filled.loc[df_filled.Metier == metier, 'Experience'].fillna(avg)\n",
    "\n",
    "print('Missing values in Experience: ', df_filled.Experience.isna().sum())"
   ]
  },
  {
   "cell_type": "code",
   "execution_count": 12,
   "id": "b2ab6b1d",
   "metadata": {
    "scrolled": true
   },
   "outputs": [
    {
     "data": {
      "text/html": [
       "<div>\n",
       "<style scoped>\n",
       "    .dataframe tbody tr th:only-of-type {\n",
       "        vertical-align: middle;\n",
       "    }\n",
       "\n",
       "    .dataframe tbody tr th {\n",
       "        vertical-align: top;\n",
       "    }\n",
       "\n",
       "    .dataframe thead th {\n",
       "        text-align: right;\n",
       "    }\n",
       "</style>\n",
       "<table border=\"1\" class=\"dataframe\">\n",
       "  <thead>\n",
       "    <tr style=\"text-align: right;\">\n",
       "      <th></th>\n",
       "      <th>Feature</th>\n",
       "      <th>Mean</th>\n",
       "      <th>Median</th>\n",
       "      <th>STD</th>\n",
       "      <th>MIN</th>\n",
       "      <th>MAX</th>\n",
       "    </tr>\n",
       "  </thead>\n",
       "  <tbody>\n",
       "    <tr>\n",
       "      <th>0</th>\n",
       "      <td>Experience</td>\n",
       "      <td>2.815366</td>\n",
       "      <td>2.0</td>\n",
       "      <td>2.703649</td>\n",
       "      <td>0.0</td>\n",
       "      <td>21.0</td>\n",
       "    </tr>\n",
       "  </tbody>\n",
       "</table>\n",
       "</div>"
      ],
      "text/plain": [
       "      Feature      Mean  Median       STD  MIN   MAX\n",
       "0  Experience  2.815366     2.0  2.703649  0.0  21.0"
      ]
     },
     "execution_count": 12,
     "metadata": {},
     "output_type": "execute_result"
    }
   ],
   "source": [
    "# Group objects in dataframe to have a recap\n",
    "experience_stats = get_stats(df_filled,['Experience'])\n",
    "experience_stats"
   ]
  },
  {
   "cell_type": "code",
   "execution_count": 13,
   "id": "0f8b3c30",
   "metadata": {},
   "outputs": [
    {
     "data": {
      "text/html": [
       "<div>\n",
       "<style scoped>\n",
       "    .dataframe tbody tr th:only-of-type {\n",
       "        vertical-align: middle;\n",
       "    }\n",
       "\n",
       "    .dataframe tbody tr th {\n",
       "        vertical-align: top;\n",
       "    }\n",
       "\n",
       "    .dataframe thead th {\n",
       "        text-align: right;\n",
       "    }\n",
       "</style>\n",
       "<table border=\"1\" class=\"dataframe\">\n",
       "  <thead>\n",
       "    <tr style=\"text-align: right;\">\n",
       "      <th></th>\n",
       "      <th>Feature</th>\n",
       "      <th>Mean</th>\n",
       "      <th>Median</th>\n",
       "      <th>STD</th>\n",
       "      <th>MIN</th>\n",
       "      <th>MAX</th>\n",
       "      <th>Metier</th>\n",
       "    </tr>\n",
       "  </thead>\n",
       "  <tbody>\n",
       "    <tr>\n",
       "      <th>0</th>\n",
       "      <td>Experience</td>\n",
       "      <td>2.243282</td>\n",
       "      <td>2.0</td>\n",
       "      <td>2.516554</td>\n",
       "      <td>0.0</td>\n",
       "      <td>21.0</td>\n",
       "      <td>Data scientist</td>\n",
       "    </tr>\n",
       "    <tr>\n",
       "      <th>0</th>\n",
       "      <td>Experience</td>\n",
       "      <td>3.000476</td>\n",
       "      <td>2.5</td>\n",
       "      <td>2.708984</td>\n",
       "      <td>0.0</td>\n",
       "      <td>15.0</td>\n",
       "      <td>Data architecte</td>\n",
       "    </tr>\n",
       "    <tr>\n",
       "      <th>0</th>\n",
       "      <td>Experience</td>\n",
       "      <td>3.965261</td>\n",
       "      <td>3.5</td>\n",
       "      <td>2.672880</td>\n",
       "      <td>0.0</td>\n",
       "      <td>21.0</td>\n",
       "      <td>Lead data scientist</td>\n",
       "    </tr>\n",
       "    <tr>\n",
       "      <th>0</th>\n",
       "      <td>Experience</td>\n",
       "      <td>2.984959</td>\n",
       "      <td>2.5</td>\n",
       "      <td>2.766717</td>\n",
       "      <td>0.0</td>\n",
       "      <td>15.0</td>\n",
       "      <td>Data engineer</td>\n",
       "    </tr>\n",
       "    <tr>\n",
       "      <th>0</th>\n",
       "      <td>Experience</td>\n",
       "      <td>3.236842</td>\n",
       "      <td>2.5</td>\n",
       "      <td>3.610819</td>\n",
       "      <td>0.0</td>\n",
       "      <td>15.0</td>\n",
       "      <td>Unknown</td>\n",
       "    </tr>\n",
       "  </tbody>\n",
       "</table>\n",
       "</div>"
      ],
      "text/plain": [
       "      Feature      Mean  Median       STD  MIN   MAX               Metier\n",
       "0  Experience  2.243282     2.0  2.516554  0.0  21.0       Data scientist\n",
       "0  Experience  3.000476     2.5  2.708984  0.0  15.0      Data architecte\n",
       "0  Experience  3.965261     3.5  2.672880  0.0  21.0  Lead data scientist\n",
       "0  Experience  2.984959     2.5  2.766717  0.0  15.0        Data engineer\n",
       "0  Experience  3.236842     2.5  3.610819  0.0  15.0              Unknown"
      ]
     },
     "execution_count": 13,
     "metadata": {},
     "output_type": "execute_result"
    }
   ],
   "source": [
    "# Now let's get the stats by Job\n",
    "\n",
    "stat_job_all = pd.DataFrame()\n",
    "\n",
    "for job in df_filled.Metier.unique():\n",
    "    \n",
    "    stat_job= get_stats(df_filled[df_filled.Metier == job],['Experience'])\n",
    "    stat_job['Metier'] = job\n",
    "    \n",
    "    stat_job_all = pd.concat([stat_job_all,stat_job], axis=0)\n",
    "\n",
    "stat_job_all  "
   ]
  },
  {
   "cell_type": "markdown",
   "id": "56c68902",
   "metadata": {},
   "source": [
    "We can observe some extreme values - let's have a look at the distribution"
   ]
  },
  {
   "cell_type": "code",
   "execution_count": 14,
   "id": "fea30d1a",
   "metadata": {},
   "outputs": [
    {
     "data": {
      "text/plain": [
       "Text(0.5, 1.0, 'Xp distribution by job type')"
      ]
     },
     "execution_count": 14,
     "metadata": {},
     "output_type": "execute_result"
    },
    {
     "data": {
      "image/png": "[encoded data removed]",
      "text/plain": [
       "<Figure size 640x480 with 1 Axes>"
      ]
     },
     "metadata": {},
     "output_type": "display_data"
    }
   ],
   "source": [
    "# Make a separate list for each airline\n",
    "x1 = list(df_filled[df_filled['Metier'] == 'Data scientist']['Experience'])\n",
    "x2 = list(df_filled[df_filled['Metier'] == 'Data architecte']['Experience'])\n",
    "x3 = list(df_filled[df_filled['Metier'] == 'Lead data scientist']['Experience'])\n",
    "x4 = list(df_filled[df_filled['Metier'] == 'Data engineer']['Experience'])\n",
    "x5 = list(df_filled[df_filled['Metier'] == 'Unknown']['Experience'])\n",
    "\n",
    "# Assign colors for each airline and the names\n",
    "colors = ['#E69F00', '#56B4E9', '#F0E442', '#009E73', '#D55E00']\n",
    "names = ['Unknown', 'Data scientist', 'Data architecte', 'Lead data scientist',\n",
    "         'Data engineer']\n",
    "         \n",
    "# Make the histogram using a list of lists\n",
    "# Normalize the flights and assign colors and names\n",
    "plt.hist([x5, x1, x2, x3, x4], bins = int(180/15), stacked = True,\n",
    "         color = colors, label=names)\n",
    "\n",
    "# Plot formatting\n",
    "plt.legend()\n",
    "plt.xlabel('Xp Years')\n",
    "plt.ylabel('# of candidates')\n",
    "plt.title('Xp distribution by job type')"
   ]
  },
  {
   "cell_type": "code",
   "execution_count": 15,
   "id": "4d24f5bc",
   "metadata": {},
   "outputs": [
    {
     "data": {
      "image/png": "[encoded data removed]",
      "text/plain": [
       "<Figure size 2000x800 with 1 Axes>"
      ]
     },
     "metadata": {},
     "output_type": "display_data"
    }
   ],
   "source": [
    "# Visualize the experience average by job\n",
    "exp_avgs = df_filled.groupby('Metier')['Experience'].mean()\n",
    "plt.figure(figsize=(20, 8))\n",
    "plt.xticks(rotation='vertical')\n",
    "plt.bar(exp_avgs.index, exp_avgs.values, \\\n",
    "        color=['lightblue', 'lightgreen', 'orange', 'purple']) #y axis = avg experience, x axis = jobs\n",
    "plt.show()"
   ]
  },
  {
   "cell_type": "markdown",
   "id": "7d627726",
   "metadata": {},
   "source": [
    "#### Focus: Technologies"
   ]
  },
  {
   "cell_type": "code",
   "execution_count": 16,
   "id": "80263081",
   "metadata": {},
   "outputs": [
    {
     "name": "stdout",
     "output_type": "stream",
     "text": [
      "Number of duplicates:  0\n"
     ]
    }
   ],
   "source": [
    "# Let's split the items in each row to multiple columns then restack them in the same column\n",
    "df_filled['Candidate'] = df_filled.index # to identify a single row per candidate\n",
    "df_expand = df_filled['Technologies'].str.split('/', expand=True).stack().reset_index(level=1, drop=True).to_frame('Technologies')\n",
    "\n",
    "# Join with initial database to get for each candidate a row for each technologie  \n",
    "df_stacked = df_filled.drop('Technologies', axis=1).join(df_expand)\n",
    "\n",
    "# The above step serves to identify if there a duplicated technologies for a single candidate:\n",
    "print('Number of duplicates: ',df_stacked.duplicated(subset=df_stacked.columns).sum())"
   ]
  },
  {
   "cell_type": "code",
   "execution_count": 17,
   "id": "c3d70a06",
   "metadata": {},
   "outputs": [
    {
     "name": "stdout",
     "output_type": "stream",
     "text": [
      "Most used Technologies:  ['Python' 'R' 'SQL' 'Java' 'Hadoop']\n"
     ]
    },
    {
     "name": "stderr",
     "output_type": "stream",
     "text": [
      "C:\\Users\\marianne.chehade\\AppData\\Local\\Temp\\ipykernel_2672\\2250980259.py:8: SettingWithCopyWarning: \n",
      "A value is trying to be set on a copy of a slice from a DataFrame.\n",
      "Try using .loc[row_indexer,col_indexer] = value instead\n",
      "\n",
      "See the caveats in the documentation: https://pandas.pydata.org/pandas-docs/stable/user_guide/indexing.html#returning-a-view-versus-a-copy\n",
      "  df_reduced.loc[df_reduced.Technologies == tech, \"Share%\"] = len(df_reduced[df_reduced.Technologies == tech])/len(df_reduced)\n"
     ]
    }
   ],
   "source": [
    "#Get list of highest occurencies in Technologies and the share:\n",
    "high_occ_tech = df_stacked.Technologies.value_counts().nlargest(5).index.values\n",
    "print ('Most used Technologies: ',high_occ_tech)\n",
    "\n",
    "df_reduced = df_stacked[df_stacked.Technologies.isin(high_occ_tech)]\n",
    "\n",
    "for tech in high_occ_tech:\n",
    "    df_reduced.loc[df_reduced.Technologies == tech, \"Share%\"] = len(df_reduced[df_reduced.Technologies == tech])/len(df_reduced)"
   ]
  },
  {
   "cell_type": "code",
   "execution_count": 18,
   "id": "f8547e98",
   "metadata": {},
   "outputs": [
    {
     "data": {
      "image/png": "[encoded data removed]",
      "text/plain": [
       "<Figure size 600x600 with 1 Axes>"
      ]
     },
     "metadata": {},
     "output_type": "display_data"
    }
   ],
   "source": [
    "# Compute share of each one the top 5 technologies\n",
    "share_array = []\n",
    "\n",
    "for tech in df_reduced.Technologies.unique():\n",
    "    share = df_reduced[df_reduced.Technologies == tech]['Share%'].unique()[0]\n",
    "    share_array.append(share)\n",
    "    \n",
    "# Sample data\n",
    "labels = df_reduced.Technologies.unique()\n",
    "sizes = share_array\n",
    "\n",
    "# Create a pie chart\n",
    "plt.figure(figsize=(6, 6))\n",
    "plt.pie(sizes, labels=labels, autopct='%1.1f%%', startangle=90, \\\n",
    "        colors=['lightblue', 'lightgreen', 'orange', 'purple', 'lightyellow'])\n",
    "plt.title('Share of the Top 5 Technologies')\n",
    "plt.show()"
   ]
  },
  {
   "cell_type": "markdown",
   "id": "156fc581",
   "metadata": {},
   "source": [
    "## Feature Engineering"
   ]
  },
  {
   "cell_type": "code",
   "execution_count": 19,
   "id": "90d39ed6",
   "metadata": {},
   "outputs": [],
   "source": [
    "# from openai import OpenAI\n",
    "\n",
    "\n",
    "# client = OpenAI(\n",
    "#     # This is the default and can be omitted\n",
    "#     api_key=os.environ.get(\"OPENAI_API_KEY\"),\n",
    "# )\n",
    "\n",
    "# chat_completion = client.chat.completions.create(\n",
    "#     messages=[\n",
    "#         {\n",
    "#             \"role\": \"user\",\n",
    "#             \"content\": \"Say this is a test\",\n",
    "#         }\n",
    "#     ],\n",
    "#     model=\"gpt-3.5-turbo\",\n",
    "# )"
   ]
  },
  {
   "cell_type": "markdown",
   "id": "6d03344a",
   "metadata": {},
   "source": [
    "#### Transformation to categorical variables:\n",
    "##### Experience variable\n",
    "Let's transform Experience into 4 groups: Debutant, Confirme, Senior & Expert\n",
    "* Debutant: 0 years of experience -> 1 year\n",
    "* Confirme: >1 year -> 2.5 years\n",
    "* Senior: >2.5 years -> 4 years\n",
    "* Expert : >4 years\n",
    "\n",
    "We decided the intervals based on market standards"
   ]
  },
  {
   "cell_type": "code",
   "execution_count": 20,
   "id": "28bca1a8",
   "metadata": {},
   "outputs": [
    {
     "data": {
      "text/plain": [
       "XP_Category\n",
       "Confirme    2907\n",
       "Debutant    2811\n",
       "Senior      2272\n",
       "Expert      1592\n",
       "Name: count, dtype: int64"
      ]
     },
     "execution_count": 20,
     "metadata": {},
     "output_type": "execute_result"
    }
   ],
   "source": [
    "df_filled.loc[(df_filled['Experience'] >= 0) & (df_filled['Experience'] <= 1), 'XP_Category'] = 'Debutant'\n",
    "df_filled.loc[(df_filled['Experience'] > 1) & (df_filled['Experience'] <= 2.5), 'XP_Category'] = 'Confirme'\n",
    "df_filled.loc[(df_filled['Experience'] > 2.5) & (df_filled['Experience'] <= 4), 'XP_Category'] = 'Senior'\n",
    "df_filled.loc[(df_filled['Experience'] > 4), 'XP_Category'] = 'Expert'\n",
    "\n",
    "df_filled.XP_Category.value_counts()"
   ]
  },
  {
   "cell_type": "markdown",
   "id": "04cd49ef",
   "metadata": {},
   "source": [
    "##### Entreprise variable\n",
    "Entrepise column has a lot of values - we need to transform it into a meaningful column \\\n",
    "We can get the sector of each company and use this information in the classification:\n",
    "* Through an API\n",
    "* Key words search in the name of each company: \"Pharmacy\" -> pharmaceutica. Risk: Not optimal as not all companies have key words ans they can be typed differently!\n",
    "* Manually ! This is risky because it needs manual maintance - However, we decide to go with the solution for the test"
   ]
  },
  {
   "cell_type": "code",
   "execution_count": 21,
   "id": "9caca1f4",
   "metadata": {},
   "outputs": [],
   "source": [
    "# import requests\n",
    "\n",
    "# api_key = 'Q9D3HXS4XNPW6THA'\n",
    "\n",
    "# def get_sector(company_symbol):\n",
    "#     base_url = 'https://www.alphavantage.co/query'\n",
    "#     function = 'OVERVIEW'\n",
    "    \n",
    "#     params = {\n",
    "#         'function': function,\n",
    "#         'symbol': company_symbol,\n",
    "#         'apikey': api_key,\n",
    "#     }\n",
    "\n",
    "#     response = requests.get(base_url, params=params)\n",
    "#     data = response.json()\n",
    "\n",
    "#     if 'Sector' in data:\n",
    "#         return data['Sector']\n",
    "#     else:\n",
    "#         return print('Not found')\n",
    "\n",
    "# # List of companies\n",
    "# companies = [\n",
    "#     'Advanced Technology Solutions, Inc',\n",
    "#     'American Environmental Assessment',\n",
    "#     'Xylem',\n",
    "#     'DV Trading LLC',\n",
    "#     'Aristotle',\n",
    "#     'Park Assist LLC',\n",
    "#     \"Children's Hospital Los Angeles\",\n",
    "#     'Department of Energy',\n",
    "#     'Cedars-Sinai Medical Center',\n",
    "#     'KPMG',\n",
    "#     'Apple'\n",
    "# ]\n",
    "\n",
    "# # Get sector for each company\n",
    "# sectors = {}\n",
    "# for company in companies:\n",
    "#     sector = get_sector(company)\n",
    "#     sectors[company] = sector\n",
    "\n",
    "# # Print the sectors\n",
    "# for company, sector in sectors.items():\n",
    "#     print(f\"{company}: {sector}\")\n"
   ]
  },
  {
   "cell_type": "markdown",
   "id": "04d9bb6c",
   "metadata": {},
   "source": [
    "#### Create new variable based on top 5 technologies used:"
   ]
  },
  {
   "cell_type": "code",
   "execution_count": 22,
   "id": "46626125",
   "metadata": {},
   "outputs": [
    {
     "data": {
      "text/plain": [
       "Tech_rank\n",
       "1    3712\n",
       "2    3300\n",
       "3    1941\n",
       "4     423\n",
       "0     206\n",
       "Name: count, dtype: int64"
      ]
     },
     "execution_count": 22,
     "metadata": {},
     "output_type": "execute_result"
    }
   ],
   "source": [
    "tech_list = ['Python', 'R', 'SQL', 'Java', 'Hadoop']\n",
    "\n",
    "# Compute the number of technologies used from the top 5, if none = 0\n",
    "for tech in tech_list:\n",
    "    df_filled['Tech_rank']  = df_filled['Technologies'].apply(lambda x: sum(tech in x for tech in tech_list))\n",
    "\n",
    "df_filled.Tech_rank.value_counts()"
   ]
  },
  {
   "cell_type": "markdown",
   "id": "440181ca",
   "metadata": {},
   "source": [
    "### ML Supervisé"
   ]
  },
  {
   "cell_type": "markdown",
   "id": "2f795a64",
   "metadata": {},
   "source": [
    "We will used a Random Forest Classifier to predict the missing values\\\n",
    "Steps:\n",
    "* Use LabelEncoder on variables with ordinal relationship\n",
    "* Split the dataset between missing and none-missing values\n",
    "* Use second dataframe to build the model"
   ]
  },
  {
   "cell_type": "code",
   "execution_count": 50,
   "id": "1636d225",
   "metadata": {},
   "outputs": [
    {
     "data": {
      "text/plain": [
       "Metier_Cat\n",
       "1.0    3865\n",
       "4.0    2347\n",
       "2.0    2123\n",
       "3.0    1228\n",
       "5.0      19\n",
       "Name: count, dtype: int64"
      ]
     },
     "execution_count": 50,
     "metadata": {},
     "output_type": "execute_result"
    }
   ],
   "source": [
    "# Transforming Metier into numeral categories\n",
    "\n",
    "df_encoded = df_filled.copy()\n",
    "\n",
    "df_encoded.loc[df_encoded.Metier=='Data scientist', 'Metier_Cat'] = 1\n",
    "df_encoded.loc[df_encoded.Metier=='Data architecte', 'Metier_Cat'] = 2\n",
    "df_encoded.loc[df_encoded.Metier=='Lead data scientist', 'Metier_Cat'] = 3\n",
    "df_encoded.loc[df_encoded.Metier=='Data engineer', 'Metier_Cat'] = 4\n",
    "df_encoded.loc[df_encoded.Metier=='Unknown', 'Metier_Cat'] = 5\n",
    "\n",
    "df_encoded.Metier_Cat.value_counts()"
   ]
  },
  {
   "cell_type": "code",
   "execution_count": 51,
   "id": "099a49c6",
   "metadata": {},
   "outputs": [
    {
     "name": "stdout",
     "output_type": "stream",
     "text": [
      "Diplome_OE\n",
      "2.0    4971\n",
      "3.0    2258\n",
      "1.0    1392\n",
      "0.0     961\n",
      "Name: count, dtype: int64\n",
      "Tech_OE\n",
      "1.0    3712\n",
      "2.0    3300\n",
      "3.0    1941\n",
      "4.0     423\n",
      "0.0     206\n",
      "Name: count, dtype: int64\n",
      "XP_OE\n",
      "1.0    2907\n",
      "0.0    2811\n",
      "2.0    2272\n",
      "3.0    1592\n",
      "Name: count, dtype: int64\n"
     ]
    }
   ],
   "source": [
    "# Encoding ordinal columns that will be used in classifier\n",
    "\n",
    "# Set order from least to most:\n",
    "order_dip = ['No diploma', 'Bachelor', 'Master', 'Phd']\n",
    "order_tech = [0, 1, 2, 3, 4]\n",
    "order_xp = ['Debutant', 'Confirme', 'Senior', 'Expert']\n",
    "\n",
    "# Encode columns:\n",
    "df_encoded['Diplome_OE'] = OrdinalEncoder(categories=[order_dip]).fit_transform(df_encoded[['Diplome']])\n",
    "df_encoded['Tech_OE'] = OrdinalEncoder(categories=[order_tech]).fit_transform(df_encoded[['Tech_rank']])\n",
    "df_encoded['XP_OE'] = OrdinalEncoder(categories=[order_xp]).fit_transform(df_encoded[['XP_Category']])\n",
    "\n",
    "print(df_encoded.Diplome_OE.value_counts())\n",
    "print(df_encoded.Tech_OE.value_counts())\n",
    "print(df_encoded.XP_OE.value_counts())"
   ]
  },
  {
   "cell_type": "code",
   "execution_count": null,
   "id": "57449871",
   "metadata": {},
   "outputs": [],
   "source": [
    "# Label Encoder on technologies\n",
    "\n",
    "df_encoded['Tech_LE'] = LabelEncoder().fit_transform(df_encoded[['Technologies']])"
   ]
  },
  {
   "cell_type": "code",
   "execution_count": 55,
   "id": "d0d124e3",
   "metadata": {},
   "outputs": [
    {
     "name": "stdout",
     "output_type": "stream",
     "text": [
      "Rows with Metier not null: 9563\n",
      "Rows with Metier Unkown 19\n"
     ]
    }
   ],
   "source": [
    "# Let's continue by splitting the database between known and unkonwn job (4)\n",
    "\n",
    "#keep only needed columns:\n",
    "df_encoded_initial = df_encoded.copy()\n",
    "df_encoded = df_encoded[['Candidate' ,'Metier_Cat', \"XP_OE\", \"Diplome_OE\", \"Tech_LE\"]]\n",
    "\n",
    "df_metier = df_encoded[df_encoded['Metier_Cat'] != 5]\n",
    "print(\"Rows with Metier not null:\", df_metier.shape[0])\n",
    "\n",
    "df_no_metier = df_encoded[df_encoded['Metier_Cat'] == 5]\n",
    "print(\"Rows with Metier Unkown\", df_no_metier.shape[0])"
   ]
  },
  {
   "cell_type": "code",
   "execution_count": 56,
   "id": "fddcc142",
   "metadata": {},
   "outputs": [
    {
     "name": "stdout",
     "output_type": "stream",
     "text": [
      "ACCURACY: TRAIN=0.8918 TEST=0.8600\n",
      "LOG LOSS: 0.4989377135126764\n",
      "Classification Report:\n",
      "               precision    recall  f1-score   support\n",
      "\n",
      "         1.0       0.80      0.92      0.86       400\n",
      "         2.0       0.95      0.95      0.95       199\n",
      "         3.0       0.60      0.33      0.42       125\n",
      "         4.0       0.97      0.96      0.97       233\n",
      "\n",
      "    accuracy                           0.86       957\n",
      "   macro avg       0.83      0.79      0.80       957\n",
      "weighted avg       0.85      0.86      0.85       957\n",
      "\n"
     ]
    },
    {
     "data": {
      "image/png": "[encoded data removed]",
      "text/plain": [
       "<Figure size 640x480 with 1 Axes>"
      ]
     },
     "metadata": {},
     "output_type": "display_data"
    }
   ],
   "source": [
    "X = df_metier[[\"XP_OE\", \"Diplome_OE\", \"Tech_LE\"]].values #only keep values to use in classification\n",
    "Y = df_metier[\"Metier_Cat\"].values #Value to predict\n",
    "\n",
    "# We split the dataframe into Train and test\n",
    "X_train, X_test, Y_train, Y_test = train_test_split(X, Y, test_size=0.1, random_state=0)\n",
    "\n",
    "# Instanciate the classifier\n",
    "forest = RandomForestClassifier(n_estimators=45, max_depth=25, random_state=False, \n",
    "                                max_features=0.6, min_samples_leaf=3, n_jobs=-1)\n",
    "# Fit the model\n",
    "forest.fit(X_train, Y_train)\n",
    "\n",
    "# use the model to predict the value in the test set\n",
    "y_pred_train = forest.predict(X_train)\n",
    "y_pred = forest.predict(X_test)\n",
    "\n",
    "y_pred_proba = forest.predict_proba(X_test)\n",
    "\n",
    "# Evaluate the model\n",
    "accuracy_train = accuracy_score(Y_train, y_pred_train)\n",
    "accuracy_test = accuracy_score(Y_test, y_pred)\n",
    "\n",
    "print(\"ACCURACY: TRAIN=%.4f TEST=%.4f\" % (accuracy_train,accuracy_test))\n",
    "print(\"LOG LOSS: \"+str(log_loss(Y_test, y_pred_proba)))\n",
    "\n",
    "classification_report_output = classification_report(Y_test, y_pred)\n",
    "print(\"Classification Report:\\n\", classification_report_output)\n",
    "\n",
    "#Features Importance\n",
    "importances = forest.feature_importances_\n",
    "indices = list(np.argsort(importances))[::-1]\n",
    "\n",
    "plt.title(\"Feature importances\")\n",
    "plt.barh(range(len(indices)), importances[indices], color=\"g\", align=\"center\")\n",
    "plt.yticks(range(len(indices)), df_metier.drop('Candidate', axis=1).iloc[:, 1:].columns[indices])\n",
    "\n",
    "plt.gca().invert_yaxis()\n"
   ]
  },
  {
   "cell_type": "markdown",
   "id": "421748f5",
   "metadata": {},
   "source": [
    "We can see the Technologies used are the one that contribute the most to the prediction.\\\n",
    "In fact, technologies used differ between Data scientists, engineers and architects - hence it justifies the importance of the feature"
   ]
  },
  {
   "cell_type": "code",
   "execution_count": 233,
   "id": "67c5d6e4",
   "metadata": {},
   "outputs": [
    {
     "data": {
      "text/html": [
       "<div>\n",
       "<style scoped>\n",
       "    .dataframe tbody tr th:only-of-type {\n",
       "        vertical-align: middle;\n",
       "    }\n",
       "\n",
       "    .dataframe tbody tr th {\n",
       "        vertical-align: top;\n",
       "    }\n",
       "\n",
       "    .dataframe thead th {\n",
       "        text-align: right;\n",
       "    }\n",
       "</style>\n",
       "<table border=\"1\" class=\"dataframe\">\n",
       "  <thead>\n",
       "    <tr style=\"text-align: right;\">\n",
       "      <th></th>\n",
       "      <th>Importance</th>\n",
       "      <th>Std</th>\n",
       "    </tr>\n",
       "  </thead>\n",
       "  <tbody>\n",
       "    <tr>\n",
       "      <th>XP_OE</th>\n",
       "      <td>0.018600</td>\n",
       "      <td>0.006638</td>\n",
       "    </tr>\n",
       "    <tr>\n",
       "      <th>Diplome_OE</th>\n",
       "      <td>0.028004</td>\n",
       "      <td>0.004692</td>\n",
       "    </tr>\n",
       "    <tr>\n",
       "      <th>Tech_LE</th>\n",
       "      <td>0.519331</td>\n",
       "      <td>0.011389</td>\n",
       "    </tr>\n",
       "  </tbody>\n",
       "</table>\n",
       "</div>"
      ],
      "text/plain": [
       "            Importance       Std\n",
       "XP_OE         0.018600  0.006638\n",
       "Diplome_OE    0.028004  0.004692\n",
       "Tech_LE       0.519331  0.011389"
      ]
     },
     "execution_count": 233,
     "metadata": {},
     "output_type": "execute_result"
    }
   ],
   "source": [
    "result = permutation_importance(forest, X_test, Y_test, n_repeats=10, random_state=42)\n",
    "\n",
    "perm_importances = result.importances_mean\n",
    "perm_std = result.importances_std\n",
    "sorted_idx = perm_importances.argsort()\n",
    "feature_names = df_metier.drop(['Candidate', 'Metier_Cat'], axis=1).columns\n",
    "\n",
    "pd.DataFrame({'Importance': perm_importances, 'Std': perm_std}, index=feature_names[sorted_idx]).sort_values('Importance',ascending=True)"
   ]
  },
  {
   "cell_type": "markdown",
   "id": "d01f1a48",
   "metadata": {},
   "source": [
    "We run a permuation importance - it allows to measure the change in the model's performance when we shuffle the features values.\\\n",
    "As we can see, this second test confirm that that Technologies is the most important feature"
   ]
  },
  {
   "cell_type": "code",
   "execution_count": 64,
   "id": "9ed6db4d",
   "metadata": {
    "scrolled": true
   },
   "outputs": [
    {
     "name": "stderr",
     "output_type": "stream",
     "text": [
      "C:\\Users\\marianne.chehade\\Anaconda3\\envs\\equancy\\Lib\\site-packages\\sklearn\\base.py:486: UserWarning: X has feature names, but RandomForestClassifier was fitted without feature names\n",
      "  warnings.warn(\n"
     ]
    }
   ],
   "source": [
    "# predict real values\n",
    "\n",
    "df_no_metier_initial = df_no_metier.copy()\n",
    "df_no_metier = df_no_metier.drop(['Metier_Cat','Candidate'], axis=1)\n",
    "prediction = forest.predict(df_no_metier)\n",
    "df_no_metier.insert(0, 'Metier_Cat', prediction)\n",
    "df_no_metier.insert(0, 'Candidate', df_no_metier_initial['Candidate'])\n",
    "\n",
    "# Join with initial dataframe\n",
    "df_predicted = pd.concat([df_metier, df_no_metier], axis=0)\n",
    "df_predicted"
   ]
  },
  {
   "cell_type": "markdown",
   "id": "273c9110",
   "metadata": {},
   "source": [
    "### Unsupervised Classification"
   ]
  },
  {
   "cell_type": "markdown",
   "id": "cabfb41a",
   "metadata": {},
   "source": [
    "We're going to run two methods:\n",
    "* Hierarchical\n",
    "* Non-hierarchical using K-means"
   ]
  },
  {
   "cell_type": "markdown",
   "id": "5cc093a0",
   "metadata": {},
   "source": [
    "#### Hierarchical Clustering"
   ]
  },
  {
   "cell_type": "code",
   "execution_count": 217,
   "id": "8a35ad8b",
   "metadata": {},
   "outputs": [
    {
     "data": {
      "text/html": [
       "<div>\n",
       "<style scoped>\n",
       "    .dataframe tbody tr th:only-of-type {\n",
       "        vertical-align: middle;\n",
       "    }\n",
       "\n",
       "    .dataframe tbody tr th {\n",
       "        vertical-align: top;\n",
       "    }\n",
       "\n",
       "    .dataframe thead th {\n",
       "        text-align: right;\n",
       "    }\n",
       "</style>\n",
       "<table border=\"1\" class=\"dataframe\">\n",
       "  <thead>\n",
       "    <tr style=\"text-align: right;\">\n",
       "      <th></th>\n",
       "      <th>Candidate</th>\n",
       "      <th>Metier_Cat</th>\n",
       "      <th>XP_OE</th>\n",
       "      <th>Diplome_OE</th>\n",
       "      <th>Tech_LE</th>\n",
       "      <th>Tech_OE</th>\n",
       "    </tr>\n",
       "  </thead>\n",
       "  <tbody>\n",
       "    <tr>\n",
       "      <th>0</th>\n",
       "      <td>0</td>\n",
       "      <td>1.0</td>\n",
       "      <td>0.0</td>\n",
       "      <td>2.0</td>\n",
       "      <td>27</td>\n",
       "      <td>1.0</td>\n",
       "    </tr>\n",
       "    <tr>\n",
       "      <th>1</th>\n",
       "      <td>1</td>\n",
       "      <td>2.0</td>\n",
       "      <td>2.0</td>\n",
       "      <td>2.0</td>\n",
       "      <td>34</td>\n",
       "      <td>2.0</td>\n",
       "    </tr>\n",
       "    <tr>\n",
       "      <th>2</th>\n",
       "      <td>2</td>\n",
       "      <td>3.0</td>\n",
       "      <td>2.0</td>\n",
       "      <td>2.0</td>\n",
       "      <td>51</td>\n",
       "      <td>3.0</td>\n",
       "    </tr>\n",
       "    <tr>\n",
       "      <th>3</th>\n",
       "      <td>3</td>\n",
       "      <td>1.0</td>\n",
       "      <td>1.0</td>\n",
       "      <td>2.0</td>\n",
       "      <td>2</td>\n",
       "      <td>2.0</td>\n",
       "    </tr>\n",
       "    <tr>\n",
       "      <th>4</th>\n",
       "      <td>4</td>\n",
       "      <td>1.0</td>\n",
       "      <td>1.0</td>\n",
       "      <td>3.0</td>\n",
       "      <td>26</td>\n",
       "      <td>1.0</td>\n",
       "    </tr>\n",
       "    <tr>\n",
       "      <th>...</th>\n",
       "      <td>...</td>\n",
       "      <td>...</td>\n",
       "      <td>...</td>\n",
       "      <td>...</td>\n",
       "      <td>...</td>\n",
       "      <td>...</td>\n",
       "    </tr>\n",
       "    <tr>\n",
       "      <th>9577</th>\n",
       "      <td>7228</td>\n",
       "      <td>4.0</td>\n",
       "      <td>1.0</td>\n",
       "      <td>2.0</td>\n",
       "      <td>23</td>\n",
       "      <td>2.0</td>\n",
       "    </tr>\n",
       "    <tr>\n",
       "      <th>9578</th>\n",
       "      <td>7330</td>\n",
       "      <td>1.0</td>\n",
       "      <td>0.0</td>\n",
       "      <td>3.0</td>\n",
       "      <td>9</td>\n",
       "      <td>2.0</td>\n",
       "    </tr>\n",
       "    <tr>\n",
       "      <th>9579</th>\n",
       "      <td>9087</td>\n",
       "      <td>2.0</td>\n",
       "      <td>2.0</td>\n",
       "      <td>0.0</td>\n",
       "      <td>14</td>\n",
       "      <td>1.0</td>\n",
       "    </tr>\n",
       "    <tr>\n",
       "      <th>9580</th>\n",
       "      <td>9427</td>\n",
       "      <td>1.0</td>\n",
       "      <td>0.0</td>\n",
       "      <td>2.0</td>\n",
       "      <td>39</td>\n",
       "      <td>2.0</td>\n",
       "    </tr>\n",
       "    <tr>\n",
       "      <th>9581</th>\n",
       "      <td>9490</td>\n",
       "      <td>1.0</td>\n",
       "      <td>2.0</td>\n",
       "      <td>2.0</td>\n",
       "      <td>47</td>\n",
       "      <td>3.0</td>\n",
       "    </tr>\n",
       "  </tbody>\n",
       "</table>\n",
       "<p>9582 rows × 6 columns</p>\n",
       "</div>"
      ],
      "text/plain": [
       "      Candidate  Metier_Cat  XP_OE  Diplome_OE  Tech_LE  Tech_OE\n",
       "0             0         1.0    0.0         2.0       27      1.0\n",
       "1             1         2.0    2.0         2.0       34      2.0\n",
       "2             2         3.0    2.0         2.0       51      3.0\n",
       "3             3         1.0    1.0         2.0        2      2.0\n",
       "4             4         1.0    1.0         3.0       26      1.0\n",
       "...         ...         ...    ...         ...      ...      ...\n",
       "9577       7228         4.0    1.0         2.0       23      2.0\n",
       "9578       7330         1.0    0.0         3.0        9      2.0\n",
       "9579       9087         2.0    2.0         0.0       14      1.0\n",
       "9580       9427         1.0    0.0         2.0       39      2.0\n",
       "9581       9490         1.0    2.0         2.0       47      3.0\n",
       "\n",
       "[9582 rows x 6 columns]"
      ]
     },
     "execution_count": 217,
     "metadata": {},
     "output_type": "execute_result"
    }
   ],
   "source": [
    "# adding Tech_OE -> categories within top 5 tech : it will be easier for classification purposes\n",
    "df_merged = pd.merge(df_predicted, df_encoded_initial[['Candidate', 'Tech_OE']])\n",
    "df_merged"
   ]
  },
  {
   "cell_type": "code",
   "execution_count": 218,
   "id": "c5a106a0",
   "metadata": {},
   "outputs": [
    {
     "data": {
      "text/plain": [
       "(9582, 4)"
      ]
     },
     "execution_count": 218,
     "metadata": {},
     "output_type": "execute_result"
    }
   ],
   "source": [
    "# Let's scale the data\n",
    "\n",
    "data_scaler = StandardScaler()\n",
    "\n",
    "scaled_data = data_scaler.fit_transform(df_merged.drop(['Candidate', 'Tech_OE'], axis=1))\n",
    "scaled_data.shape"
   ]
  },
  {
   "cell_type": "code",
   "execution_count": 205,
   "id": "2ce0a79b",
   "metadata": {},
   "outputs": [],
   "source": [
    "complete_clustering = linkage(scaled_data, method=\"complete\", metric=\"euclidean\")\n",
    "average_clustering = linkage(scaled_data, method=\"average\", metric=\"euclidean\")"
   ]
  },
  {
   "cell_type": "code",
   "execution_count": 206,
   "id": "bfbde806",
   "metadata": {},
   "outputs": [
    {
     "data": {
      "image/png": "[encoded data removed]",
      "text/plain": [
       "<Figure size 640x480 with 1 Axes>"
      ]
     },
     "metadata": {},
     "output_type": "display_data"
    }
   ],
   "source": [
    "dendrogram(complete_clustering)\n",
    "plt.show()"
   ]
  },
  {
   "cell_type": "code",
   "execution_count": 207,
   "id": "ebee86d9",
   "metadata": {},
   "outputs": [
    {
     "data": {
      "image/png": "[encoded data removed]",
      "text/plain": [
       "<Figure size 640x480 with 1 Axes>"
      ]
     },
     "metadata": {},
     "output_type": "display_data"
    }
   ],
   "source": [
    "dendrogram(average_clustering)\n",
    "plt.show()"
   ]
  },
  {
   "cell_type": "code",
   "execution_count": 235,
   "id": "6a4dfeb3",
   "metadata": {},
   "outputs": [],
   "source": [
    "# Both methods suggest having 2 clusters - We're going with the complete linkage as it is less sensitive to outliers: \n",
    "\n",
    "cluster_labels = cut_tree(complete_clustering, n_clusters=2).reshape(-1, )\n",
    "df_merged[\"Cluster_Hier\"] = cluster_labels"
   ]
  },
  {
   "cell_type": "code",
   "execution_count": 219,
   "id": "cf46d514",
   "metadata": {},
   "outputs": [
    {
     "data": {
      "text/plain": [
       "<Axes: xlabel='Cluster_Hier', ylabel='Metier_Cat'>"
      ]
     },
     "execution_count": 219,
     "metadata": {},
     "output_type": "execute_result"
    },
    {
     "data": {
      "image/png": "[encoded data removed]",
      "text/plain": [
       "<Figure size 640x480 with 1 Axes>"
      ]
     },
     "metadata": {},
     "output_type": "display_data"
    }
   ],
   "source": [
    "# Visualize boxplot for each of the features\n",
    "\n",
    "sns.boxplot(x='Cluster_Hier', y='Metier_Cat', data=df_merged.drop(['Candidate' ,'Tech_LE'], axis=1))"
   ]
  },
  {
   "cell_type": "code",
   "execution_count": 220,
   "id": "30ccf079",
   "metadata": {},
   "outputs": [
    {
     "data": {
      "text/plain": [
       "<Axes: xlabel='Cluster_Hier', ylabel='XP_OE'>"
      ]
     },
     "execution_count": 220,
     "metadata": {},
     "output_type": "execute_result"
    },
    {
     "data": {
      "image/png": "[encoded data removed]",
      "text/plain": [
       "<Figure size 640x480 with 1 Axes>"
      ]
     },
     "metadata": {},
     "output_type": "display_data"
    }
   ],
   "source": [
    "sns.boxplot(x='Cluster_Hier', y='XP_OE', data=df_merged.drop(['Candidate' ,'Tech_LE'], axis=1))"
   ]
  },
  {
   "cell_type": "code",
   "execution_count": 221,
   "id": "226bda86",
   "metadata": {},
   "outputs": [
    {
     "data": {
      "text/plain": [
       "<Axes: xlabel='Cluster_Hier', ylabel='Diplome_OE'>"
      ]
     },
     "execution_count": 221,
     "metadata": {},
     "output_type": "execute_result"
    },
    {
     "data": {
      "image/png": "[encoded data removed]",
      "text/plain": [
       "<Figure size 640x480 with 1 Axes>"
      ]
     },
     "metadata": {},
     "output_type": "display_data"
    }
   ],
   "source": [
    "sns.boxplot(x='Cluster_Hier', y='Diplome_OE', data=df_merged.drop(['Candidate' ,'Tech_LE'], axis=1))"
   ]
  },
  {
   "cell_type": "code",
   "execution_count": 222,
   "id": "5439007a",
   "metadata": {},
   "outputs": [
    {
     "data": {
      "text/plain": [
       "<Axes: xlabel='Cluster_Hier', ylabel='Tech_OE'>"
      ]
     },
     "execution_count": 222,
     "metadata": {},
     "output_type": "execute_result"
    },
    {
     "data": {
      "image/png": "[encoded data removed]",
      "text/plain": [
       "<Figure size 640x480 with 1 Axes>"
      ]
     },
     "metadata": {},
     "output_type": "display_data"
    }
   ],
   "source": [
    "sns.boxplot(x='Cluster_Hier', y='Tech_OE', data=df_merged.drop(['Candidate' ,'Tech_LE'], axis=1))"
   ]
  },
  {
   "cell_type": "code",
   "execution_count": 261,
   "id": "6539eec5",
   "metadata": {},
   "outputs": [
    {
     "data": {
      "text/plain": [
       "0.20321186910212136"
      ]
     },
     "execution_count": 261,
     "metadata": {},
     "output_type": "execute_result"
    }
   ],
   "source": [
    "# Calculate Silhouette Score: closer to 1 the more the clustered are defined\n",
    "silhouette_avg = silhouette_score(scaled_data, cluster_labels)\n",
    "silhouette_avg"
   ]
  },
  {
   "cell_type": "markdown",
   "id": "b816038f",
   "metadata": {},
   "source": [
    "Result shows that the clusters are not very well defined"
   ]
  },
  {
   "cell_type": "markdown",
   "id": "04e4f1e8",
   "metadata": {},
   "source": [
    "#### Non-hierarchical clustering: k-means"
   ]
  },
  {
   "cell_type": "code",
   "execution_count": 262,
   "id": "da9b2792",
   "metadata": {},
   "outputs": [
    {
     "data": {
      "image/png": "[encoded data removed]",
      "text/plain": [
       "<Figure size 640x480 with 1 Axes>"
      ]
     },
     "metadata": {},
     "output_type": "display_data"
    }
   ],
   "source": [
    "# Start by choosing the number of clusters using the Elbow method\n",
    "\n",
    "inertias = []\n",
    "\n",
    "X = scaled_data #to fit\n",
    "\n",
    "for i in range(1,11):\n",
    "    kmeans = KMeans(n_clusters=i)\n",
    "    kmeans.fit(X)\n",
    "    \n",
    "    inertias.append(kmeans.inertia_)\n",
    "\n",
    "# Plot Inertias\n",
    "plt.plot(range(1,11), inertias, marker='o')\n",
    "plt.title('Elbow method')\n",
    "plt.xlabel('Number of clusters')\n",
    "plt.ylabel('Inertia')\n",
    "\n",
    "plt.show()"
   ]
  },
  {
   "cell_type": "markdown",
   "id": "72f268dc",
   "metadata": {},
   "source": [
    "It show that 2 is the ideal number - so we will set k=2"
   ]
  },
  {
   "cell_type": "code",
   "execution_count": 263,
   "id": "059d97f9",
   "metadata": {},
   "outputs": [
    {
     "data": {
      "text/plain": [
       "0.23554276170178515"
      ]
     },
     "execution_count": 263,
     "metadata": {},
     "output_type": "execute_result"
    }
   ],
   "source": [
    "# Compute Silhoutte Score\n",
    "\n",
    "kmeans = KMeans(n_clusters=2)\n",
    "kmeans.fit(X)\n",
    "silhouette_score(X, kmeans.labels_)"
   ]
  },
  {
   "cell_type": "markdown",
   "id": "0edc1781",
   "metadata": {},
   "source": [
    "Results with K-means give a slightly higher result - but still the performance isn't very high"
   ]
  },
  {
   "cell_type": "code",
   "execution_count": 225,
   "id": "9f7bdfea",
   "metadata": {},
   "outputs": [
    {
     "data": {
      "text/html": [
       "<div>\n",
       "<style scoped>\n",
       "    .dataframe tbody tr th:only-of-type {\n",
       "        vertical-align: middle;\n",
       "    }\n",
       "\n",
       "    .dataframe tbody tr th {\n",
       "        vertical-align: top;\n",
       "    }\n",
       "\n",
       "    .dataframe thead th {\n",
       "        text-align: right;\n",
       "    }\n",
       "</style>\n",
       "<table border=\"1\" class=\"dataframe\">\n",
       "  <thead>\n",
       "    <tr style=\"text-align: right;\">\n",
       "      <th></th>\n",
       "      <th>Candidate</th>\n",
       "      <th>Metier_Cat</th>\n",
       "      <th>XP_OE</th>\n",
       "      <th>Diplome_OE</th>\n",
       "      <th>Tech_LE</th>\n",
       "      <th>Tech_OE</th>\n",
       "      <th>Cluster_Hier</th>\n",
       "      <th>Cluster_kmeans</th>\n",
       "    </tr>\n",
       "  </thead>\n",
       "  <tbody>\n",
       "    <tr>\n",
       "      <th>0</th>\n",
       "      <td>0</td>\n",
       "      <td>1.0</td>\n",
       "      <td>0.0</td>\n",
       "      <td>2.0</td>\n",
       "      <td>27</td>\n",
       "      <td>1.0</td>\n",
       "      <td>0</td>\n",
       "      <td>1</td>\n",
       "    </tr>\n",
       "    <tr>\n",
       "      <th>1</th>\n",
       "      <td>1</td>\n",
       "      <td>2.0</td>\n",
       "      <td>2.0</td>\n",
       "      <td>2.0</td>\n",
       "      <td>34</td>\n",
       "      <td>2.0</td>\n",
       "      <td>0</td>\n",
       "      <td>1</td>\n",
       "    </tr>\n",
       "    <tr>\n",
       "      <th>2</th>\n",
       "      <td>2</td>\n",
       "      <td>3.0</td>\n",
       "      <td>2.0</td>\n",
       "      <td>2.0</td>\n",
       "      <td>51</td>\n",
       "      <td>3.0</td>\n",
       "      <td>0</td>\n",
       "      <td>0</td>\n",
       "    </tr>\n",
       "    <tr>\n",
       "      <th>3</th>\n",
       "      <td>3</td>\n",
       "      <td>1.0</td>\n",
       "      <td>1.0</td>\n",
       "      <td>2.0</td>\n",
       "      <td>2</td>\n",
       "      <td>2.0</td>\n",
       "      <td>0</td>\n",
       "      <td>1</td>\n",
       "    </tr>\n",
       "    <tr>\n",
       "      <th>4</th>\n",
       "      <td>4</td>\n",
       "      <td>1.0</td>\n",
       "      <td>1.0</td>\n",
       "      <td>3.0</td>\n",
       "      <td>26</td>\n",
       "      <td>1.0</td>\n",
       "      <td>0</td>\n",
       "      <td>1</td>\n",
       "    </tr>\n",
       "    <tr>\n",
       "      <th>...</th>\n",
       "      <td>...</td>\n",
       "      <td>...</td>\n",
       "      <td>...</td>\n",
       "      <td>...</td>\n",
       "      <td>...</td>\n",
       "      <td>...</td>\n",
       "      <td>...</td>\n",
       "      <td>...</td>\n",
       "    </tr>\n",
       "    <tr>\n",
       "      <th>9577</th>\n",
       "      <td>7228</td>\n",
       "      <td>4.0</td>\n",
       "      <td>1.0</td>\n",
       "      <td>2.0</td>\n",
       "      <td>23</td>\n",
       "      <td>2.0</td>\n",
       "      <td>1</td>\n",
       "      <td>0</td>\n",
       "    </tr>\n",
       "    <tr>\n",
       "      <th>9578</th>\n",
       "      <td>7330</td>\n",
       "      <td>1.0</td>\n",
       "      <td>0.0</td>\n",
       "      <td>3.0</td>\n",
       "      <td>9</td>\n",
       "      <td>2.0</td>\n",
       "      <td>0</td>\n",
       "      <td>1</td>\n",
       "    </tr>\n",
       "    <tr>\n",
       "      <th>9579</th>\n",
       "      <td>9087</td>\n",
       "      <td>2.0</td>\n",
       "      <td>2.0</td>\n",
       "      <td>0.0</td>\n",
       "      <td>14</td>\n",
       "      <td>1.0</td>\n",
       "      <td>1</td>\n",
       "      <td>0</td>\n",
       "    </tr>\n",
       "    <tr>\n",
       "      <th>9580</th>\n",
       "      <td>9427</td>\n",
       "      <td>1.0</td>\n",
       "      <td>0.0</td>\n",
       "      <td>2.0</td>\n",
       "      <td>39</td>\n",
       "      <td>2.0</td>\n",
       "      <td>0</td>\n",
       "      <td>1</td>\n",
       "    </tr>\n",
       "    <tr>\n",
       "      <th>9581</th>\n",
       "      <td>9490</td>\n",
       "      <td>1.0</td>\n",
       "      <td>2.0</td>\n",
       "      <td>2.0</td>\n",
       "      <td>47</td>\n",
       "      <td>3.0</td>\n",
       "      <td>0</td>\n",
       "      <td>1</td>\n",
       "    </tr>\n",
       "  </tbody>\n",
       "</table>\n",
       "<p>9582 rows × 8 columns</p>\n",
       "</div>"
      ],
      "text/plain": [
       "      Candidate  Metier_Cat  XP_OE  Diplome_OE  Tech_LE  Tech_OE  \\\n",
       "0             0         1.0    0.0         2.0       27      1.0   \n",
       "1             1         2.0    2.0         2.0       34      2.0   \n",
       "2             2         3.0    2.0         2.0       51      3.0   \n",
       "3             3         1.0    1.0         2.0        2      2.0   \n",
       "4             4         1.0    1.0         3.0       26      1.0   \n",
       "...         ...         ...    ...         ...      ...      ...   \n",
       "9577       7228         4.0    1.0         2.0       23      2.0   \n",
       "9578       7330         1.0    0.0         3.0        9      2.0   \n",
       "9579       9087         2.0    2.0         0.0       14      1.0   \n",
       "9580       9427         1.0    0.0         2.0       39      2.0   \n",
       "9581       9490         1.0    2.0         2.0       47      3.0   \n",
       "\n",
       "      Cluster_Hier  Cluster_kmeans  \n",
       "0                0               1  \n",
       "1                0               1  \n",
       "2                0               0  \n",
       "3                0               1  \n",
       "4                0               1  \n",
       "...            ...             ...  \n",
       "9577             1               0  \n",
       "9578             0               1  \n",
       "9579             1               0  \n",
       "9580             0               1  \n",
       "9581             0               1  \n",
       "\n",
       "[9582 rows x 8 columns]"
      ]
     },
     "execution_count": 225,
     "metadata": {},
     "output_type": "execute_result"
    }
   ],
   "source": [
    "# Add clusters to the final table\n",
    "kmeans = KMeans(n_clusters = 2)\n",
    "kmeans.fit(df_merged.drop(['Candidate', 'Tech_LE', 'Cluster_Hier'], axis=1))\n",
    "\n",
    "df_merged[\"Cluster_kmeans\"] = kmeans.labels_\n",
    "df_merged"
   ]
  },
  {
   "cell_type": "code",
   "execution_count": 226,
   "id": "9f3c2361",
   "metadata": {},
   "outputs": [
    {
     "name": "stderr",
     "output_type": "stream",
     "text": [
      "C:\\Users\\marianne.chehade\\AppData\\Local\\Temp\\ipykernel_2672\\2022341766.py:4: UserWarning: No data for colormapping provided via 'c'. Parameters 'cmap' will be ignored\n",
      "  axs[0].scatter(df_merged['Cluster_kmeans'], df_merged['Tech_OE'], s=50, cmap='viridis')\n",
      "C:\\Users\\marianne.chehade\\AppData\\Local\\Temp\\ipykernel_2672\\2022341766.py:8: UserWarning: No data for colormapping provided via 'c'. Parameters 'cmap' will be ignored\n",
      "  axs[1].scatter(df_merged['Cluster_kmeans'], df_merged['XP_OE'], s=50, cmap='viridis')\n",
      "C:\\Users\\marianne.chehade\\AppData\\Local\\Temp\\ipykernel_2672\\2022341766.py:12: UserWarning: No data for colormapping provided via 'c'. Parameters 'cmap' will be ignored\n",
      "  axs[2].scatter(df_merged['Cluster_kmeans'], df_merged['Diplome_OE'], s=50, cmap='viridis')\n",
      "C:\\Users\\marianne.chehade\\AppData\\Local\\Temp\\ipykernel_2672\\2022341766.py:16: UserWarning: No data for colormapping provided via 'c'. Parameters 'cmap' will be ignored\n",
      "  axs[3].scatter(df_merged['Cluster_kmeans'], df_merged['Metier_Cat'], s=50, cmap='viridis')\n"
     ]
    },
    {
     "data": {
      "image/png": "[encoded data removed]",
      "text/plain": [
       "<Figure size 1500x500 with 4 Axes>"
      ]
     },
     "metadata": {},
     "output_type": "display_data"
    }
   ],
   "source": [
    "# Scatter plot\n",
    "fig, axs = plt.subplots(1, 4, figsize=(15, 5))\n",
    "\n",
    "axs[0].scatter(df_merged['Cluster_kmeans'], df_merged['Tech_OE'], s=50, cmap='viridis')\n",
    "axs[0].scatter(df_merged['Cluster_kmeans'], df_merged['Tech_OE'], c = kmeans.labels_)\n",
    "axs[0].set_title('Tech OE')\n",
    "\n",
    "axs[1].scatter(df_merged['Cluster_kmeans'], df_merged['XP_OE'], s=50, cmap='viridis')\n",
    "axs[1].scatter(df_merged['Cluster_kmeans'], df_merged['XP_OE'], c = kmeans.labels_)\n",
    "axs[1].set_title('XP OE')\n",
    "\n",
    "axs[2].scatter(df_merged['Cluster_kmeans'], df_merged['Diplome_OE'], s=50, cmap='viridis')\n",
    "axs[2].scatter(df_merged['Cluster_kmeans'], df_merged['Diplome_OE'], c = kmeans.labels_)\n",
    "axs[2].set_title('Diplome OE')\n",
    "\n",
    "axs[3].scatter(df_merged['Cluster_kmeans'], df_merged['Metier_Cat'], s=50, cmap='viridis')\n",
    "axs[3].scatter(df_merged['Cluster_kmeans'], df_merged['Metier_Cat'], c = kmeans.labels_)\n",
    "axs[3].set_title('Diplome Metier_Cat')\n",
    "\n",
    "plt.show()"
   ]
  },
  {
   "cell_type": "markdown",
   "id": "f81608ec",
   "metadata": {},
   "source": [
    "### Interpretation, Limits & Next Steps"
   ]
  },
  {
   "cell_type": "code",
   "execution_count": null,
   "id": "781853ec",
   "metadata": {},
   "outputs": [],
   "source": []
  }
 ],
 "metadata": {
  "kernelspec": {
   "display_name": "Python 3 (ipykernel)",
   "language": "python",
   "name": "python3"
  },
  "language_info": {
   "codemirror_mode": {
    "name": "ipython",
    "version": 3
   },
   "file_extension": ".py",
   "mimetype": "text/x-python",
   "name": "python",
   "nbconvert_exporter": "python",
   "pygments_lexer": "ipython3",
   "version": "3.11.7"
  }
 },
 "nbformat": 4,
 "nbformat_minor": 5
}
