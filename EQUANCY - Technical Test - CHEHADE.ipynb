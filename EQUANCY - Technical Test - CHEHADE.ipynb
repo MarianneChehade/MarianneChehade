{
 "cells": [
  {
   "cell_type": "code",
   "execution_count": 264,
   "id": "52669f20",
   "metadata": {},
   "outputs": [],
   "source": [
    "import pandas as pd\n",
    "import numpy as np\n",
    "import os\n",
    "import matplotlib.pyplot as plt\n",
    "import seaborn as sns\n",
    "\n",
    "import time\n",
    "import datetime as dt\n",
    "\n",
    "from datetime import timedelta"
   ]
  },
  {
   "cell_type": "code",
   "execution_count": 265,
   "id": "c03ff324",
   "metadata": {},
   "outputs": [],
   "source": [
    "from sklearn.ensemble import RandomForestClassifier\n",
    "from sklearn.metrics import log_loss, accuracy_score, classification_report, silhouette_score\n",
    "from sklearn.model_selection import train_test_split\n",
    "from sklearn.preprocessing import OrdinalEncoder, LabelEncoder\n",
    "from sklearn.preprocessing import StandardScaler\n",
    "from sklearn.cluster import KMeans\n",
    "from sklearn.inspection import permutation_importance"
   ]
  },
  {
   "cell_type": "code",
   "execution_count": 266,
   "id": "04824a5e",
   "metadata": {},
   "outputs": [],
   "source": [
    "from scipy.spatial.distance import pdist, squareform\n",
    "from scipy.cluster.hierarchy import linkage, dendrogram, cut_tree, fcluster"
   ]
  },
  {
   "cell_type": "markdown",
   "id": "3e24b0a5",
   "metadata": {},
   "source": [
    "### Useful functions"
   ]
  },
  {
   "cell_type": "code",
   "execution_count": 267,
   "id": "9f956d27",
   "metadata": {},
   "outputs": [],
   "source": [
    "def get_stats(db,col_list):\n",
    "    \n",
    "    \"\"\"\n",
    "    Calculate basic stats for column specified\n",
    "    You can add multiple columns\n",
    "    Returns a dataframe with the stats\n",
    "    \n",
    "    db: dataframe \n",
    "    col_list: set a list of columns, e.g. [col1, col2]\n",
    "    \n",
    "    \"\"\"\n",
    "    \n",
    "    stats_db = pd.DataFrame() #create empty dataframe\n",
    "    \n",
    "    for col in col_list:\n",
    "        stats_db_feature = pd.DataFrame()\n",
    "        s_mean = db[col].mean()\n",
    "        s_med = db[col].median()\n",
    "        s_std = db[col].std()\n",
    "        s_min = db[col].min()\n",
    "        s_max = db[col].max()\n",
    "    \n",
    "        stats_db_feature = pd.DataFrame({'Feature': [col],\\\n",
    "                                 'Mean': [s_mean],\\\n",
    "                                 'Median': [s_med],\\\n",
    "                                 'STD': [s_std],\\\n",
    "                                 'MIN': [s_min],\\\n",
    "                                 'MAX': [s_max]})\n",
    "    \n",
    "        stats_db = pd.concat([stats_db,stats_db_feature], axis=0)\n",
    "    \n",
    "    return stats_db\n",
    "    "
   ]
  },
  {
   "cell_type": "markdown",
   "id": "0b9ef714",
   "metadata": {},
   "source": [
    "### Import Dataset"
   ]
  },
  {
   "cell_type": "code",
   "execution_count": 268,
   "id": "27d74088",
   "metadata": {},
   "outputs": [
    {
     "name": "stdout",
     "output_type": "stream",
     "text": [
      "This is the input path:  C:\\Users\\marianne.chehade\\OneDrive - Ekimetrics\\Desktop\\Perso\\Training\\Input\n",
      "This is the output path:  C:\\Users\\marianne.chehade\\OneDrive - Ekimetrics\\Desktop\\Perso\\Training\\Output\n"
     ]
    }
   ],
   "source": [
    "# Set up input and output path\n",
    "input_path = os.getcwd()+'\\\\Input'\n",
    "output_path = os.getcwd()+'\\\\Output'\n",
    "\n",
    "print('This is the input path: ',input_path)\n",
    "print('This is the output path: ', output_path)"
   ]
  },
  {
   "cell_type": "code",
   "execution_count": 269,
   "id": "df73b6d3",
   "metadata": {},
   "outputs": [
    {
     "data": {
      "text/html": [
       "<div>\n",
       "<style scoped>\n",
       "    .dataframe tbody tr th:only-of-type {\n",
       "        vertical-align: middle;\n",
       "    }\n",
       "\n",
       "    .dataframe tbody tr th {\n",
       "        vertical-align: top;\n",
       "    }\n",
       "\n",
       "    .dataframe thead th {\n",
       "        text-align: right;\n",
       "    }\n",
       "</style>\n",
       "<table border=\"1\" class=\"dataframe\">\n",
       "  <thead>\n",
       "    <tr style=\"text-align: right;\">\n",
       "      <th></th>\n",
       "      <th>Entreprise</th>\n",
       "      <th>Metier</th>\n",
       "      <th>Technologies</th>\n",
       "      <th>Diplome</th>\n",
       "      <th>Experience</th>\n",
       "      <th>Ville</th>\n",
       "    </tr>\n",
       "  </thead>\n",
       "  <tbody>\n",
       "    <tr>\n",
       "      <th>0</th>\n",
       "      <td>Sanofi</td>\n",
       "      <td>Data scientist</td>\n",
       "      <td>Matlab/Python/Pyspark/Scikit-learn/Tensorflow</td>\n",
       "      <td>Master</td>\n",
       "      <td>1</td>\n",
       "      <td>Paris</td>\n",
       "    </tr>\n",
       "    <tr>\n",
       "      <th>1</th>\n",
       "      <td>Massachusetts General Hospital(MGH)</td>\n",
       "      <td>Data architecte</td>\n",
       "      <td>Python/Java/Scala/MongoDB</td>\n",
       "      <td>Master</td>\n",
       "      <td>3</td>\n",
       "      <td>Marseille</td>\n",
       "    </tr>\n",
       "    <tr>\n",
       "      <th>2</th>\n",
       "      <td>Delve</td>\n",
       "      <td>Lead data scientist</td>\n",
       "      <td>SPSS/SQL/Teradata/R/Python/Tensorflow/scikit-l...</td>\n",
       "      <td>Master</td>\n",
       "      <td>3</td>\n",
       "      <td>Nantes</td>\n",
       "    </tr>\n",
       "    <tr>\n",
       "      <th>3</th>\n",
       "      <td>Ann &amp; Robert H. Lurie Children’s Hospital of C...</td>\n",
       "      <td>Data scientist</td>\n",
       "      <td>C/C++/Java/Python</td>\n",
       "      <td>Master</td>\n",
       "      <td>1,5</td>\n",
       "      <td>Marseille</td>\n",
       "    </tr>\n",
       "  </tbody>\n",
       "</table>\n",
       "</div>"
      ],
      "text/plain": [
       "                                          Entreprise               Metier  \\\n",
       "0                                             Sanofi       Data scientist   \n",
       "1                Massachusetts General Hospital(MGH)      Data architecte   \n",
       "2                                              Delve  Lead data scientist   \n",
       "3  Ann & Robert H. Lurie Children’s Hospital of C...       Data scientist   \n",
       "\n",
       "                                        Technologies Diplome Experience  \\\n",
       "0      Matlab/Python/Pyspark/Scikit-learn/Tensorflow  Master          1   \n",
       "1                          Python/Java/Scala/MongoDB  Master          3   \n",
       "2  SPSS/SQL/Teradata/R/Python/Tensorflow/scikit-l...  Master          3   \n",
       "3                                  C/C++/Java/Python  Master        1,5   \n",
       "\n",
       "       Ville  \n",
       "0      Paris  \n",
       "1  Marseille  \n",
       "2     Nantes  \n",
       "3  Marseille  "
      ]
     },
     "execution_count": 269,
     "metadata": {},
     "output_type": "execute_result"
    }
   ],
   "source": [
    "# Import dataset\n",
    "\n",
    "df = pd.read_csv(os.path.join(input_path,'data.csv'), sep=',')\n",
    "df.head(4)"
   ]
  },
  {
   "cell_type": "code",
   "execution_count": 270,
   "id": "0a61c3f1",
   "metadata": {},
   "outputs": [
    {
     "name": "stdout",
     "output_type": "stream",
     "text": [
      "<class 'pandas.core.frame.DataFrame'>\n",
      "RangeIndex: 9582 entries, 0 to 9581\n",
      "Data columns (total 6 columns):\n",
      " #   Column        Non-Null Count  Dtype \n",
      "---  ------        --------------  ----- \n",
      " 0   Entreprise    9565 non-null   object\n",
      " 1   Metier        9563 non-null   object\n",
      " 2   Technologies  9582 non-null   object\n",
      " 3   Diplome       9582 non-null   object\n",
      " 4   Experience    9488 non-null   object\n",
      " 5   Ville         9582 non-null   object\n",
      "dtypes: object(6)\n",
      "memory usage: 449.3+ KB\n"
     ]
    }
   ],
   "source": [
    "df.info()"
   ]
  },
  {
   "cell_type": "code",
   "execution_count": 271,
   "id": "19897742",
   "metadata": {},
   "outputs": [],
   "source": [
    "# Transform Experience to Float\n",
    "df.Experience = pd.to_numeric(df.Experience.str.replace(',','.'))"
   ]
  },
  {
   "cell_type": "markdown",
   "id": "77deba23",
   "metadata": {},
   "source": [
    "## Exploratory Analysis"
   ]
  },
  {
   "cell_type": "markdown",
   "id": "da5b4602",
   "metadata": {},
   "source": [
    "We are going to check the dataset to see if it's clean and useful"
   ]
  },
  {
   "cell_type": "code",
   "execution_count": 272,
   "id": "2e60f185",
   "metadata": {
    "scrolled": false
   },
   "outputs": [
    {
     "name": "stdout",
     "output_type": "stream",
     "text": [
      "Values in Metier:  ['Data scientist', 'Data architecte', 'Lead data scientist', 'Data engineer', nan]  with  19  missing value(s)\n",
      "Values in Diplome:  ['Master', 'Phd', 'Bachelor', 'No diploma']  with  0  missing value(s)\n",
      "Values in Experience:  [1.0, 3.0, 1.5, nan, 6.0, 0.0, 4.0, 8.0, 5.0, 0.5, 2.0, 3.5, 9.0, 7.0, 2.5, 13.0, 17.0, 12.0, 10.0, 11.0, 15.0, 21.0]  with  94  missing value(s)\n",
      "Values in Ville:  ['Paris', 'Marseille', 'Nantes', 'Bordeaux', 'Lille', 'Toulouse', 'Rouen', 'Lyon', 'Strasbourg', 'Grenoble', 'Nice', 'Toulon', 'Montpellier', 'Rennes']  with  0  missing value(s)\n"
     ]
    }
   ],
   "source": [
    "# Verify the different categories & values in each column and missing values\n",
    "\n",
    "print('Values in Metier: ',list(df.Metier.unique()),' with ', df.Metier.isna().sum(),' missing value(s)')\n",
    "print('Values in Diplome: ',list(df.Diplome.unique()),' with ', df.Diplome.isna().sum(),' missing value(s)')\n",
    "print('Values in Experience: ',list(df.Experience.unique()),' with ', df.Experience.isna().sum(),' missing value(s)')\n",
    "print('Values in Ville: ',list(df.Ville.unique()),' with ', df.Ville.isna().sum(),' missing value(s)')"
   ]
  },
  {
   "cell_type": "markdown",
   "id": "309ce100",
   "metadata": {},
   "source": [
    "#### Focus on: Experience"
   ]
  },
  {
   "cell_type": "markdown",
   "id": "0830de5e",
   "metadata": {},
   "source": [
    "* There 94 missing values for experience - we will replace them by the mean of each \"Metier\"\n",
    "* Get some basic stats on Experience: Mean, Median, STD, Min & Max"
   ]
  },
  {
   "cell_type": "code",
   "execution_count": 273,
   "id": "9f0a2615",
   "metadata": {},
   "outputs": [
    {
     "data": {
      "text/plain": [
       "Metier\n",
       "Data scientist         3865\n",
       "Data engineer          2347\n",
       "Data architecte        2123\n",
       "Lead data scientist    1228\n",
       "Unknown                  19\n",
       "Name: count, dtype: int64"
      ]
     },
     "execution_count": 273,
     "metadata": {},
     "output_type": "execute_result"
    }
   ],
   "source": [
    "#Intermediary Treatment: we will replace NaN values in \"Metier\" by \"Unknown\"\n",
    "\n",
    "df_adjusted = df.copy()\n",
    "df_adjusted['Metier'].fillna('Unknown', inplace=True)\n",
    "df_adjusted.Metier.value_counts(dropna=False)"
   ]
  },
  {
   "cell_type": "code",
   "execution_count": 274,
   "id": "aaeb588f",
   "metadata": {},
   "outputs": [
    {
     "name": "stdout",
     "output_type": "stream",
     "text": [
      "Missing values in Experience:  0\n"
     ]
    }
   ],
   "source": [
    "# Replace missing values in Experience by the mean of each job category\n",
    "\n",
    "df_filled = df_adjusted.copy()\n",
    "\n",
    "for metier in df_adjusted.Metier.unique():\n",
    "    \n",
    "    avg = df_adjusted[df_adjusted.Metier == metier]['Experience'].mean() #get mean for the current job\n",
    "    \n",
    "    df_filled.loc[df_filled.Metier == metier, 'Experience'] = \\\n",
    "    df_filled.loc[df_filled.Metier == metier, 'Experience'].fillna(avg)\n",
    "\n",
    "print('Missing values in Experience: ', df_filled.Experience.isna().sum())"
   ]
  },
  {
   "cell_type": "code",
   "execution_count": 275,
   "id": "b2ab6b1d",
   "metadata": {
    "scrolled": true
   },
   "outputs": [
    {
     "data": {
      "text/html": [
       "<div>\n",
       "<style scoped>\n",
       "    .dataframe tbody tr th:only-of-type {\n",
       "        vertical-align: middle;\n",
       "    }\n",
       "\n",
       "    .dataframe tbody tr th {\n",
       "        vertical-align: top;\n",
       "    }\n",
       "\n",
       "    .dataframe thead th {\n",
       "        text-align: right;\n",
       "    }\n",
       "</style>\n",
       "<table border=\"1\" class=\"dataframe\">\n",
       "  <thead>\n",
       "    <tr style=\"text-align: right;\">\n",
       "      <th></th>\n",
       "      <th>Feature</th>\n",
       "      <th>Mean</th>\n",
       "      <th>Median</th>\n",
       "      <th>STD</th>\n",
       "      <th>MIN</th>\n",
       "      <th>MAX</th>\n",
       "    </tr>\n",
       "  </thead>\n",
       "  <tbody>\n",
       "    <tr>\n",
       "      <th>0</th>\n",
       "      <td>Experience</td>\n",
       "      <td>2.815366</td>\n",
       "      <td>2.0</td>\n",
       "      <td>2.703649</td>\n",
       "      <td>0.0</td>\n",
       "      <td>21.0</td>\n",
       "    </tr>\n",
       "  </tbody>\n",
       "</table>\n",
       "</div>"
      ],
      "text/plain": [
       "      Feature      Mean  Median       STD  MIN   MAX\n",
       "0  Experience  2.815366     2.0  2.703649  0.0  21.0"
      ]
     },
     "execution_count": 275,
     "metadata": {},
     "output_type": "execute_result"
    }
   ],
   "source": [
    "# Group objects in dataframe to have a recap\n",
    "experience_stats = get_stats(df_filled,['Experience'])\n",
    "experience_stats"
   ]
  },
  {
   "cell_type": "code",
   "execution_count": 276,
   "id": "83c30a28",
   "metadata": {},
   "outputs": [
    {
     "data": {
      "text/html": [
       "<div>\n",
       "<style scoped>\n",
       "    .dataframe tbody tr th:only-of-type {\n",
       "        vertical-align: middle;\n",
       "    }\n",
       "\n",
       "    .dataframe tbody tr th {\n",
       "        vertical-align: top;\n",
       "    }\n",
       "\n",
       "    .dataframe thead th {\n",
       "        text-align: right;\n",
       "    }\n",
       "</style>\n",
       "<table border=\"1\" class=\"dataframe\">\n",
       "  <thead>\n",
       "    <tr style=\"text-align: right;\">\n",
       "      <th></th>\n",
       "      <th>Feature</th>\n",
       "      <th>Mean</th>\n",
       "      <th>Median</th>\n",
       "      <th>STD</th>\n",
       "      <th>MIN</th>\n",
       "      <th>MAX</th>\n",
       "      <th>Metier</th>\n",
       "    </tr>\n",
       "  </thead>\n",
       "  <tbody>\n",
       "    <tr>\n",
       "      <th>0</th>\n",
       "      <td>Experience</td>\n",
       "      <td>2.243282</td>\n",
       "      <td>2.0</td>\n",
       "      <td>2.516554</td>\n",
       "      <td>0.0</td>\n",
       "      <td>21.0</td>\n",
       "      <td>Data scientist</td>\n",
       "    </tr>\n",
       "    <tr>\n",
       "      <th>0</th>\n",
       "      <td>Experience</td>\n",
       "      <td>3.000476</td>\n",
       "      <td>2.5</td>\n",
       "      <td>2.708984</td>\n",
       "      <td>0.0</td>\n",
       "      <td>15.0</td>\n",
       "      <td>Data architecte</td>\n",
       "    </tr>\n",
       "    <tr>\n",
       "      <th>0</th>\n",
       "      <td>Experience</td>\n",
       "      <td>3.965261</td>\n",
       "      <td>3.5</td>\n",
       "      <td>2.672880</td>\n",
       "      <td>0.0</td>\n",
       "      <td>21.0</td>\n",
       "      <td>Lead data scientist</td>\n",
       "    </tr>\n",
       "    <tr>\n",
       "      <th>0</th>\n",
       "      <td>Experience</td>\n",
       "      <td>2.984959</td>\n",
       "      <td>2.5</td>\n",
       "      <td>2.766717</td>\n",
       "      <td>0.0</td>\n",
       "      <td>15.0</td>\n",
       "      <td>Data engineer</td>\n",
       "    </tr>\n",
       "    <tr>\n",
       "      <th>0</th>\n",
       "      <td>Experience</td>\n",
       "      <td>3.236842</td>\n",
       "      <td>2.5</td>\n",
       "      <td>3.610819</td>\n",
       "      <td>0.0</td>\n",
       "      <td>15.0</td>\n",
       "      <td>Unknown</td>\n",
       "    </tr>\n",
       "  </tbody>\n",
       "</table>\n",
       "</div>"
      ],
      "text/plain": [
       "      Feature      Mean  Median       STD  MIN   MAX               Metier\n",
       "0  Experience  2.243282     2.0  2.516554  0.0  21.0       Data scientist\n",
       "0  Experience  3.000476     2.5  2.708984  0.0  15.0      Data architecte\n",
       "0  Experience  3.965261     3.5  2.672880  0.0  21.0  Lead data scientist\n",
       "0  Experience  2.984959     2.5  2.766717  0.0  15.0        Data engineer\n",
       "0  Experience  3.236842     2.5  3.610819  0.0  15.0              Unknown"
      ]
     },
     "execution_count": 276,
     "metadata": {},
     "output_type": "execute_result"
    }
   ],
   "source": [
    "# Now let's get the stats by Job\n",
    "\n",
    "stat_job_all = pd.DataFrame()\n",
    "\n",
    "for job in df_filled.Metier.unique():\n",
    "    \n",
    "    stat_job= get_stats(df_filled[df_filled.Metier == job],['Experience'])\n",
    "    stat_job['Metier'] = job\n",
    "    \n",
    "    stat_job_all = pd.concat([stat_job_all,stat_job], axis=0)\n",
    "\n",
    "stat_job_all  "
   ]
  },
  {
   "cell_type": "markdown",
   "id": "94dbb5dc",
   "metadata": {},
   "source": [
    "We can observe some extreme values - let's have a look at the distribution"
   ]
  },
  {
   "cell_type": "code",
   "execution_count": 277,
   "id": "95f04346",
   "metadata": {},
   "outputs": [
    {
     "data": {
      "text/plain": [
       "Text(0.5, 1.0, 'Xp distribution by job type')"
      ]
     },
     "execution_count": 277,
     "metadata": {},
     "output_type": "execute_result"
    },
    {
     "data": {
      "image/png": "[encoded data removed]",
      "text/plain": [
       "<Figure size 640x480 with 1 Axes>"
      ]
     },
     "metadata": {},
     "output_type": "display_data"
    }
   ],
   "source": [
    "# Make a separate list for each Metier\n",
    "x1 = list(df_filled[df_filled['Metier'] == 'Data scientist']['Experience'])\n",
    "x2 = list(df_filled[df_filled['Metier'] == 'Data architecte']['Experience'])\n",
    "x3 = list(df_filled[df_filled['Metier'] == 'Lead data scientist']['Experience'])\n",
    "x4 = list(df_filled[df_filled['Metier'] == 'Data engineer']['Experience'])\n",
    "x5 = list(df_filled[df_filled['Metier'] == 'Unknown']['Experience'])\n",
    "\n",
    "# Assign colors for each metier and the names\n",
    "colors = ['#E69F00', '#56B4E9', '#F0E442', '#009E73', '#D55E00']\n",
    "names = ['Unknown', 'Data scientist', 'Data architecte', 'Lead data scientist',\n",
    "         'Data engineer']\n",
    "         \n",
    "plt.hist([x5, x1, x2, x3, x4], bins = int(180/15), stacked = True,\n",
    "         color = colors, label=names)\n",
    "\n",
    "# Plot formatting\n",
    "plt.legend()\n",
    "plt.xlabel('Xp Years')\n",
    "plt.ylabel('# of candidates')\n",
    "plt.title('Xp distribution by job type')"
   ]
  },
  {
   "cell_type": "code",
   "execution_count": 278,
   "id": "4d24f5bc",
   "metadata": {},
   "outputs": [
    {
     "data": {
      "image/png": "[encoded data removed]",
      "text/plain": [
       "<Figure size 2000x800 with 1 Axes>"
      ]
     },
     "metadata": {},
     "output_type": "display_data"
    }
   ],
   "source": [
    "# Visualize the experience average by job\n",
    "exp_avgs = df_filled.groupby('Metier')['Experience'].mean()\n",
    "plt.figure(figsize=(20, 8))\n",
    "plt.xticks(rotation='vertical')\n",
    "plt.bar(exp_avgs.index, exp_avgs.values, \\\n",
    "        color=['lightblue', 'lightgreen', 'orange', 'purple']) #y axis = avg experience, x axis = jobs\n",
    "plt.show()"
   ]
  },
  {
   "cell_type": "markdown",
   "id": "7d627726",
   "metadata": {},
   "source": [
    "#### Focus: Technologies"
   ]
  },
  {
   "cell_type": "code",
   "execution_count": 279,
   "id": "80263081",
   "metadata": {},
   "outputs": [
    {
     "name": "stdout",
     "output_type": "stream",
     "text": [
      "Number of duplicates:  0\n"
     ]
    }
   ],
   "source": [
    "# Let's split the items in each row to multiple columns then restack them in the same column\n",
    "df_filled['Candidate'] = df_filled.index # to identify a single row per candidate\n",
    "df_expand = df_filled['Technologies'].str.split('/', expand=True).stack().reset_index(level=1, drop=True).to_frame('Technologies')\n",
    "\n",
    "# Join with initial database to get for each candidate a row for each technologie  \n",
    "df_stacked = df_filled.drop('Technologies', axis=1).join(df_expand)\n",
    "\n",
    "# The above step serves to identify if there a duplicated technologies for a single candidate:\n",
    "print('Number of duplicates: ',df_stacked.duplicated(subset=df_stacked.columns).sum())"
   ]
  },
  {
   "cell_type": "code",
   "execution_count": 280,
   "id": "c3d70a06",
   "metadata": {},
   "outputs": [
    {
     "name": "stdout",
     "output_type": "stream",
     "text": [
      "Most used Technologies:  ['Python' 'R' 'SQL' 'Java' 'Hadoop']\n"
     ]
    },
    {
     "name": "stderr",
     "output_type": "stream",
     "text": [
      "C:\\Users\\marianne.chehade\\AppData\\Local\\Temp\\ipykernel_2672\\2250980259.py:8: SettingWithCopyWarning: \n",
      "A value is trying to be set on a copy of a slice from a DataFrame.\n",
      "Try using .loc[row_indexer,col_indexer] = value instead\n",
      "\n",
      "See the caveats in the documentation: https://pandas.pydata.org/pandas-docs/stable/user_guide/indexing.html#returning-a-view-versus-a-copy\n",
      "  df_reduced.loc[df_reduced.Technologies == tech, \"Share%\"] = len(df_reduced[df_reduced.Technologies == tech])/len(df_reduced)\n"
     ]
    }
   ],
   "source": [
    "#Get list of highest occurencies in Technologies and the share:\n",
    "high_occ_tech = df_stacked.Technologies.value_counts().nlargest(5).index.values\n",
    "print ('Most used Technologies: ',high_occ_tech)\n",
    "\n",
    "df_reduced = df_stacked[df_stacked.Technologies.isin(high_occ_tech)]\n",
    "\n",
    "for tech in high_occ_tech:\n",
    "    df_reduced.loc[df_reduced.Technologies == tech, \"Share%\"] = len(df_reduced[df_reduced.Technologies == tech])/len(df_reduced)"
   ]
  },
  {
   "cell_type": "code",
   "execution_count": 281,
   "id": "f8547e98",
   "metadata": {},
   "outputs": [
    {
     "data": {
      "image/png": "[encoded data removed]",
      "text/plain": [
       "<Figure size 600x600 with 1 Axes>"
      ]
     },
     "metadata": {},
     "output_type": "display_data"
    }
   ],
   "source": [
    "# Compute share of each one the top 5 technologies\n",
    "share_array = []\n",
    "\n",
    "for tech in df_reduced.Technologies.unique():\n",
    "    share = df_reduced[df_reduced.Technologies == tech]['Share%'].unique()[0]\n",
    "    share_array.append(share)\n",
    "    \n",
    "# Sample data\n",
    "labels = df_reduced.Technologies.unique()\n",
    "sizes = share_array\n",
    "\n",
    "# Create a pie chart\n",
    "plt.figure(figsize=(6, 6))\n",
    "plt.pie(sizes, labels=labels, autopct='%1.1f%%', startangle=90, \\\n",
    "        colors=['lightblue', 'lightgreen', 'orange', 'purple', 'lightyellow'])\n",
    "plt.title('Share of the Top 5 Technologies')\n",
    "plt.show()"
   ]
  },
  {
   "cell_type": "markdown",
   "id": "156fc581",
   "metadata": {},
   "source": [
    "## Feature Engineering"
   ]
  },
  {
   "cell_type": "markdown",
   "id": "66a11ac2",
   "metadata": {},
   "source": [
    "#### Transformation to categorical variables:\n",
    "##### Experience variable\n",
    "Let's transform Experience into 4 groups: Debutant, Confirme, Senior & Expert\n",
    "* Debutant: 0 years of experience -> 1 year\n",
    "* Confirme: >1 year -> 2.5 years\n",
    "* Senior: >2.5 years -> 4 years\n",
    "* Expert : >4 years\n",
    "\n",
    "We decided the intervals based on market standards"
   ]
  },
  {
   "cell_type": "code",
   "execution_count": 282,
   "id": "4c35c926",
   "metadata": {},
   "outputs": [
    {
     "data": {
      "text/plain": [
       "XP_Category\n",
       "Confirme    2907\n",
       "Debutant    2811\n",
       "Senior      2272\n",
       "Expert      1592\n",
       "Name: count, dtype: int64"
      ]
     },
     "execution_count": 282,
     "metadata": {},
     "output_type": "execute_result"
    }
   ],
   "source": [
    "df_filled.loc[(df_filled['Experience'] >= 0) & (df_filled['Experience'] <= 1), 'XP_Category'] = 'Debutant'\n",
    "df_filled.loc[(df_filled['Experience'] > 1) & (df_filled['Experience'] <= 2.5), 'XP_Category'] = 'Confirme'\n",
    "df_filled.loc[(df_filled['Experience'] > 2.5) & (df_filled['Experience'] <= 4), 'XP_Category'] = 'Senior'\n",
    "df_filled.loc[(df_filled['Experience'] > 4), 'XP_Category'] = 'Expert'\n",
    "\n",
    "df_filled.XP_Category.value_counts()"
   ]
  },
  {
   "cell_type": "markdown",
   "id": "373abdf1",
   "metadata": {},
   "source": [
    "##### Entreprise variable\n",
    "Entrepise column has a lot of values - we need to transform it into a meaningful column \\\n",
    "We can get the sector of each company and use this information in the classification:\n",
    "* Through an API\n",
    "* Key words search in the name of each company: \"Pharmacy\" -> pharmaceutica. Risk: Not optimal as not all companies have key words ans they can be typed differently!\n",
    "* Manually ! This is risky because it needs manual maintance - However, we decide to go with the solution for the test"
   ]
  },
  {
   "cell_type": "markdown",
   "id": "272b20ea",
   "metadata": {},
   "source": [
    "#### Create new variable based on top 5 technologies used:"
   ]
  },
  {
   "cell_type": "code",
   "execution_count": 283,
   "id": "5c1e0fa3",
   "metadata": {},
   "outputs": [
    {
     "data": {
      "text/plain": [
       "Tech_rank\n",
       "1    3712\n",
       "2    3300\n",
       "3    1941\n",
       "4     423\n",
       "0     206\n",
       "Name: count, dtype: int64"
      ]
     },
     "execution_count": 283,
     "metadata": {},
     "output_type": "execute_result"
    }
   ],
   "source": [
    "tech_list = ['Python', 'R', 'SQL', 'Java', 'Hadoop']\n",
    "\n",
    "# Compute the number of technologies used from the top 5, if none = 0\n",
    "for tech in tech_list:\n",
    "    df_filled['Tech_rank']  = df_filled['Technologies'].apply(lambda x: sum(tech in x for tech in tech_list))\n",
    "\n",
    "df_filled.Tech_rank.value_counts()"
   ]
  },
  {
   "cell_type": "markdown",
   "id": "301d31cf",
   "metadata": {},
   "source": [
    "### ML Supervised"
   ]
  },
  {
   "cell_type": "markdown",
   "id": "7ecae14b",
   "metadata": {},
   "source": [
    "We will used a Random Forest Classifier to predict the missing values\\\n",
    "Steps:\n",
    "* Use LabelEncoder on variables with ordinal relationship\n",
    "* Split the dataset between missing and none-missing values\n",
    "* Use second dataframe to build the model"
   ]
  },
  {
   "cell_type": "code",
   "execution_count": 284,
   "id": "31471014",
   "metadata": {},
   "outputs": [
    {
     "data": {
      "text/plain": [
       "Metier_Cat\n",
       "1.0    3865\n",
       "4.0    2347\n",
       "2.0    2123\n",
       "3.0    1228\n",
       "5.0      19\n",
       "Name: count, dtype: int64"
      ]
     },
     "execution_count": 284,
     "metadata": {},
     "output_type": "execute_result"
    }
   ],
   "source": [
    "# Transforming Metier into numeral categories\n",
    "\n",
    "df_encoded = df_filled.copy()\n",
    "\n",
    "df_encoded.loc[df_encoded.Metier=='Data scientist', 'Metier_Cat'] = 1\n",
    "df_encoded.loc[df_encoded.Metier=='Data architecte', 'Metier_Cat'] = 2\n",
    "df_encoded.loc[df_encoded.Metier=='Lead data scientist', 'Metier_Cat'] = 3\n",
    "df_encoded.loc[df_encoded.Metier=='Data engineer', 'Metier_Cat'] = 4\n",
    "df_encoded.loc[df_encoded.Metier=='Unknown', 'Metier_Cat'] = 5\n",
    "\n",
    "df_encoded.Metier_Cat.value_counts()"
   ]
  },
  {
   "cell_type": "code",
   "execution_count": 285,
   "id": "db27127a",
   "metadata": {},
   "outputs": [
    {
     "name": "stdout",
     "output_type": "stream",
     "text": [
      "Diplome_OE\n",
      "2.0    4971\n",
      "3.0    2258\n",
      "1.0    1392\n",
      "0.0     961\n",
      "Name: count, dtype: int64\n",
      "Tech_OE\n",
      "1.0    3712\n",
      "2.0    3300\n",
      "3.0    1941\n",
      "4.0     423\n",
      "0.0     206\n",
      "Name: count, dtype: int64\n",
      "XP_OE\n",
      "1.0    2907\n",
      "0.0    2811\n",
      "2.0    2272\n",
      "3.0    1592\n",
      "Name: count, dtype: int64\n"
     ]
    }
   ],
   "source": [
    "# Encoding ordinal columns that will be used in classifier\n",
    "\n",
    "# Set order from least to most:\n",
    "order_dip = ['No diploma', 'Bachelor', 'Master', 'Phd']\n",
    "order_tech = [0, 1, 2, 3, 4]\n",
    "order_xp = ['Debutant', 'Confirme', 'Senior', 'Expert']\n",
    "\n",
    "# Encode columns:\n",
    "df_encoded['Diplome_OE'] = OrdinalEncoder(categories=[order_dip]).fit_transform(df_encoded[['Diplome']])\n",
    "df_encoded['Tech_OE'] = OrdinalEncoder(categories=[order_tech]).fit_transform(df_encoded[['Tech_rank']])\n",
    "df_encoded['XP_OE'] = OrdinalEncoder(categories=[order_xp]).fit_transform(df_encoded[['XP_Category']])\n",
    "\n",
    "print(df_encoded.Diplome_OE.value_counts())\n",
    "print(df_encoded.Tech_OE.value_counts())\n",
    "print(df_encoded.XP_OE.value_counts())"
   ]
  },
  {
   "cell_type": "code",
   "execution_count": 286,
   "id": "4541bd87",
   "metadata": {},
   "outputs": [
    {
     "name": "stderr",
     "output_type": "stream",
     "text": [
      "C:\\Users\\marianne.chehade\\Anaconda3\\envs\\equancy\\Lib\\site-packages\\sklearn\\preprocessing\\_label.py:114: DataConversionWarning: A column-vector y was passed when a 1d array was expected. Please change the shape of y to (n_samples, ), for example using ravel().\n",
      "  y = column_or_1d(y, warn=True)\n"
     ]
    }
   ],
   "source": [
    "# Label Encoder on technologies\n",
    "\n",
    "df_encoded['Tech_LE'] = LabelEncoder().fit_transform(df_encoded[['Technologies']])"
   ]
  },
  {
   "cell_type": "code",
   "execution_count": 287,
   "id": "44f94e69",
   "metadata": {},
   "outputs": [
    {
     "name": "stdout",
     "output_type": "stream",
     "text": [
      "Rows with Metier not null: 9563\n",
      "Rows with Metier Unkown 19\n"
     ]
    }
   ],
   "source": [
    "# Let's continue by splitting the database between known and unkonwn job (4)\n",
    "\n",
    "#keep only needed columns:\n",
    "df_encoded_initial = df_encoded.copy()\n",
    "df_encoded = df_encoded[['Candidate' ,'Metier_Cat', \"XP_OE\", \"Diplome_OE\", \"Tech_LE\"]]\n",
    "\n",
    "df_metier = df_encoded[df_encoded['Metier_Cat'] != 5]\n",
    "print(\"Rows with Metier not null:\", df_metier.shape[0])\n",
    "\n",
    "df_no_metier = df_encoded[df_encoded['Metier_Cat'] == 5]\n",
    "print(\"Rows with Metier Unkown\", df_no_metier.shape[0])"
   ]
  },
  {
   "cell_type": "code",
   "execution_count": 288,
   "id": "53ec3ea6",
   "metadata": {},
   "outputs": [
    {
     "name": "stdout",
     "output_type": "stream",
     "text": [
      "ACCURACY: TRAIN=0.8918 TEST=0.8600\n",
      "Classification Report:\n",
      "               precision    recall  f1-score   support\n",
      "\n",
      "         1.0       0.80      0.92      0.86       400\n",
      "         2.0       0.95      0.95      0.95       199\n",
      "         3.0       0.60      0.33      0.42       125\n",
      "         4.0       0.97      0.96      0.97       233\n",
      "\n",
      "    accuracy                           0.86       957\n",
      "   macro avg       0.83      0.79      0.80       957\n",
      "weighted avg       0.85      0.86      0.85       957\n",
      "\n"
     ]
    },
    {
     "data": {
      "image/png": "[encoded data removed]",
      "text/plain": [
       "<Figure size 640x480 with 1 Axes>"
      ]
     },
     "metadata": {},
     "output_type": "display_data"
    }
   ],
   "source": [
    "X = df_metier[[\"XP_OE\", \"Diplome_OE\", \"Tech_LE\"]].values #only keep values to use in classification\n",
    "Y = df_metier[\"Metier_Cat\"].values #Value to predict\n",
    "\n",
    "# We split the dataframe into Train and test\n",
    "X_train, X_test, Y_train, Y_test = train_test_split(X, Y, test_size=0.1, random_state=0)\n",
    "\n",
    "# Instanciate the classifier\n",
    "forest = RandomForestClassifier(n_estimators=45, max_depth=25, random_state=False, \n",
    "                                max_features=0.6, min_samples_leaf=3, n_jobs=-1)\n",
    "# Fit the model\n",
    "forest.fit(X_train, Y_train)\n",
    "\n",
    "# use the model to predict the value in the test set\n",
    "y_pred_train = forest.predict(X_train)\n",
    "y_pred = forest.predict(X_test)\n",
    "\n",
    "y_pred_proba = forest.predict_proba(X_test)\n",
    "\n",
    "# Evaluate the model\n",
    "accuracy_train = accuracy_score(Y_train, y_pred_train)\n",
    "accuracy_test = accuracy_score(Y_test, y_pred)\n",
    "\n",
    "print(\"ACCURACY: TRAIN=%.4f TEST=%.4f\" % (accuracy_train,accuracy_test))\n",
    "\n",
    "classification_report_output = classification_report(Y_test, y_pred)\n",
    "print(\"Classification Report:\\n\", classification_report_output)\n",
    "\n",
    "#Features Importance\n",
    "importances = forest.feature_importances_\n",
    "indices = list(np.argsort(importances))[::-1]\n",
    "\n",
    "plt.title(\"Feature importances\")\n",
    "plt.barh(range(len(indices)), importances[indices], color=\"g\", align=\"center\")\n",
    "plt.yticks(range(len(indices)), df_metier.drop('Candidate', axis=1).iloc[:, 1:].columns[indices])\n",
    "\n",
    "plt.gca().invert_yaxis()\n"
   ]
  },
  {
   "cell_type": "markdown",
   "id": "992e96c0",
   "metadata": {},
   "source": [
    "We can see the Technologies used are the ones that contribute the most to the prediction.\\\n",
    "In fact, technologies used differ between Data scientists, engineers and architects - hence it justifies the importance of the feature"
   ]
  },
  {
   "cell_type": "code",
   "execution_count": 233,
   "id": "f60ef077",
   "metadata": {},
   "outputs": [
    {
     "data": {
      "text/html": [
       "<div>\n",
       "<style scoped>\n",
       "    .dataframe tbody tr th:only-of-type {\n",
       "        vertical-align: middle;\n",
       "    }\n",
       "\n",
       "    .dataframe tbody tr th {\n",
       "        vertical-align: top;\n",
       "    }\n",
       "\n",
       "    .dataframe thead th {\n",
       "        text-align: right;\n",
       "    }\n",
       "</style>\n",
       "<table border=\"1\" class=\"dataframe\">\n",
       "  <thead>\n",
       "    <tr style=\"text-align: right;\">\n",
       "      <th></th>\n",
       "      <th>Importance</th>\n",
       "      <th>Std</th>\n",
       "    </tr>\n",
       "  </thead>\n",
       "  <tbody>\n",
       "    <tr>\n",
       "      <th>XP_OE</th>\n",
       "      <td>0.018600</td>\n",
       "      <td>0.006638</td>\n",
       "    </tr>\n",
       "    <tr>\n",
       "      <th>Diplome_OE</th>\n",
       "      <td>0.028004</td>\n",
       "      <td>0.004692</td>\n",
       "    </tr>\n",
       "    <tr>\n",
       "      <th>Tech_LE</th>\n",
       "      <td>0.519331</td>\n",
       "      <td>0.011389</td>\n",
       "    </tr>\n",
       "  </tbody>\n",
       "</table>\n",
       "</div>"
      ],
      "text/plain": [
       "            Importance       Std\n",
       "XP_OE         0.018600  0.006638\n",
       "Diplome_OE    0.028004  0.004692\n",
       "Tech_LE       0.519331  0.011389"
      ]
     },
     "execution_count": 233,
     "metadata": {},
     "output_type": "execute_result"
    }
   ],
   "source": [
    "result = permutation_importance(forest, X_test, Y_test, n_repeats=10, random_state=42)\n",
    "\n",
    "perm_importances = result.importances_mean\n",
    "perm_std = result.importances_std\n",
    "sorted_idx = perm_importances.argsort()\n",
    "feature_names = df_metier.drop(['Candidate', 'Metier_Cat'], axis=1).columns\n",
    "\n",
    "pd.DataFrame({'Importance': perm_importances, 'Std': perm_std}, index=feature_names[sorted_idx]).sort_values('Importance',ascending=True)"
   ]
  },
  {
   "cell_type": "markdown",
   "id": "bcd823eb",
   "metadata": {},
   "source": [
    "We run a permuation importance - it allows to measure the change in the model's performance when we shuffle the features values.\\\n",
    "As we can see, this second test confirm that that Technologies is the most important feature"
   ]
  },
  {
   "cell_type": "code",
   "execution_count": 289,
   "id": "1b3e1969",
   "metadata": {
    "scrolled": true
   },
   "outputs": [
    {
     "name": "stderr",
     "output_type": "stream",
     "text": [
      "C:\\Users\\marianne.chehade\\Anaconda3\\envs\\equancy\\Lib\\site-packages\\sklearn\\base.py:486: UserWarning: X has feature names, but RandomForestClassifier was fitted without feature names\n",
      "  warnings.warn(\n"
     ]
    },
    {
     "data": {
      "text/html": [
       "<div>\n",
       "<style scoped>\n",
       "    .dataframe tbody tr th:only-of-type {\n",
       "        vertical-align: middle;\n",
       "    }\n",
       "\n",
       "    .dataframe tbody tr th {\n",
       "        vertical-align: top;\n",
       "    }\n",
       "\n",
       "    .dataframe thead th {\n",
       "        text-align: right;\n",
       "    }\n",
       "</style>\n",
       "<table border=\"1\" class=\"dataframe\">\n",
       "  <thead>\n",
       "    <tr style=\"text-align: right;\">\n",
       "      <th></th>\n",
       "      <th>Candidate</th>\n",
       "      <th>Metier_Cat</th>\n",
       "      <th>XP_OE</th>\n",
       "      <th>Diplome_OE</th>\n",
       "      <th>Tech_LE</th>\n",
       "    </tr>\n",
       "  </thead>\n",
       "  <tbody>\n",
       "    <tr>\n",
       "      <th>0</th>\n",
       "      <td>0</td>\n",
       "      <td>1.0</td>\n",
       "      <td>0.0</td>\n",
       "      <td>2.0</td>\n",
       "      <td>27</td>\n",
       "    </tr>\n",
       "    <tr>\n",
       "      <th>1</th>\n",
       "      <td>1</td>\n",
       "      <td>2.0</td>\n",
       "      <td>2.0</td>\n",
       "      <td>2.0</td>\n",
       "      <td>34</td>\n",
       "    </tr>\n",
       "    <tr>\n",
       "      <th>2</th>\n",
       "      <td>2</td>\n",
       "      <td>3.0</td>\n",
       "      <td>2.0</td>\n",
       "      <td>2.0</td>\n",
       "      <td>51</td>\n",
       "    </tr>\n",
       "    <tr>\n",
       "      <th>3</th>\n",
       "      <td>3</td>\n",
       "      <td>1.0</td>\n",
       "      <td>1.0</td>\n",
       "      <td>2.0</td>\n",
       "      <td>2</td>\n",
       "    </tr>\n",
       "    <tr>\n",
       "      <th>4</th>\n",
       "      <td>4</td>\n",
       "      <td>1.0</td>\n",
       "      <td>1.0</td>\n",
       "      <td>3.0</td>\n",
       "      <td>26</td>\n",
       "    </tr>\n",
       "    <tr>\n",
       "      <th>...</th>\n",
       "      <td>...</td>\n",
       "      <td>...</td>\n",
       "      <td>...</td>\n",
       "      <td>...</td>\n",
       "      <td>...</td>\n",
       "    </tr>\n",
       "    <tr>\n",
       "      <th>7228</th>\n",
       "      <td>7228</td>\n",
       "      <td>4.0</td>\n",
       "      <td>1.0</td>\n",
       "      <td>2.0</td>\n",
       "      <td>23</td>\n",
       "    </tr>\n",
       "    <tr>\n",
       "      <th>7330</th>\n",
       "      <td>7330</td>\n",
       "      <td>1.0</td>\n",
       "      <td>0.0</td>\n",
       "      <td>3.0</td>\n",
       "      <td>9</td>\n",
       "    </tr>\n",
       "    <tr>\n",
       "      <th>9087</th>\n",
       "      <td>9087</td>\n",
       "      <td>2.0</td>\n",
       "      <td>2.0</td>\n",
       "      <td>0.0</td>\n",
       "      <td>14</td>\n",
       "    </tr>\n",
       "    <tr>\n",
       "      <th>9427</th>\n",
       "      <td>9427</td>\n",
       "      <td>1.0</td>\n",
       "      <td>0.0</td>\n",
       "      <td>2.0</td>\n",
       "      <td>39</td>\n",
       "    </tr>\n",
       "    <tr>\n",
       "      <th>9490</th>\n",
       "      <td>9490</td>\n",
       "      <td>1.0</td>\n",
       "      <td>2.0</td>\n",
       "      <td>2.0</td>\n",
       "      <td>47</td>\n",
       "    </tr>\n",
       "  </tbody>\n",
       "</table>\n",
       "<p>9582 rows × 5 columns</p>\n",
       "</div>"
      ],
      "text/plain": [
       "      Candidate  Metier_Cat  XP_OE  Diplome_OE  Tech_LE\n",
       "0             0         1.0    0.0         2.0       27\n",
       "1             1         2.0    2.0         2.0       34\n",
       "2             2         3.0    2.0         2.0       51\n",
       "3             3         1.0    1.0         2.0        2\n",
       "4             4         1.0    1.0         3.0       26\n",
       "...         ...         ...    ...         ...      ...\n",
       "7228       7228         4.0    1.0         2.0       23\n",
       "7330       7330         1.0    0.0         3.0        9\n",
       "9087       9087         2.0    2.0         0.0       14\n",
       "9427       9427         1.0    0.0         2.0       39\n",
       "9490       9490         1.0    2.0         2.0       47\n",
       "\n",
       "[9582 rows x 5 columns]"
      ]
     },
     "execution_count": 289,
     "metadata": {},
     "output_type": "execute_result"
    }
   ],
   "source": [
    "# predict real values\n",
    "\n",
    "df_no_metier_initial = df_no_metier.copy()\n",
    "df_no_metier = df_no_metier.drop(['Metier_Cat','Candidate'], axis=1)\n",
    "prediction = forest.predict(df_no_metier)\n",
    "df_no_metier.insert(0, 'Metier_Cat', prediction)\n",
    "df_no_metier.insert(0, 'Candidate', df_no_metier_initial['Candidate'])\n",
    "\n",
    "# Join with initial dataframe\n",
    "df_predicted = pd.concat([df_metier, df_no_metier], axis=0)\n",
    "df_predicted"
   ]
  },
  {
   "cell_type": "markdown",
   "id": "5494d645",
   "metadata": {},
   "source": [
    "#### Interpretation:\n",
    "\n",
    "Model quality:\n",
    "* Good Accuracy rate: 89% on train set and 86% on test set. The model is able to predict well True and False values\n",
    "* Fscore is good on all categories - except the third one \"Lead Data Scientist\". Looking at the recall score it's only 33%. The model is capturing only 33% of the true instances \\\n",
    "\n",
    "Interpretation:\n",
    "* Technology was the most important variable in the classification\n",
    "* Experience years and education grade are not enough to predict missing values and attribute a job title \n",
    "* Based on the results, we might want to increase precision to avoid false positives. Hence, we can work on the precision of \"Technology\". We can categorize the variable based on the most used technology in each job domain to refine the predictions\n"
   ]
  },
  {
   "cell_type": "markdown",
   "id": "bb231eb3",
   "metadata": {},
   "source": [
    "### Unsupervised Classification"
   ]
  },
  {
   "cell_type": "markdown",
   "id": "db2dcc1c",
   "metadata": {},
   "source": [
    "We're going to run two methods:\n",
    "* Hierarchical\n",
    "* Non-hierarchical using K-means"
   ]
  },
  {
   "cell_type": "markdown",
   "id": "33eb2a97",
   "metadata": {},
   "source": [
    "#### Hierarchical Clustering"
   ]
  },
  {
   "cell_type": "code",
   "execution_count": 290,
   "id": "a24dd7f9",
   "metadata": {},
   "outputs": [
    {
     "data": {
      "text/html": [
       "<div>\n",
       "<style scoped>\n",
       "    .dataframe tbody tr th:only-of-type {\n",
       "        vertical-align: middle;\n",
       "    }\n",
       "\n",
       "    .dataframe tbody tr th {\n",
       "        vertical-align: top;\n",
       "    }\n",
       "\n",
       "    .dataframe thead th {\n",
       "        text-align: right;\n",
       "    }\n",
       "</style>\n",
       "<table border=\"1\" class=\"dataframe\">\n",
       "  <thead>\n",
       "    <tr style=\"text-align: right;\">\n",
       "      <th></th>\n",
       "      <th>Candidate</th>\n",
       "      <th>Metier_Cat</th>\n",
       "      <th>XP_OE</th>\n",
       "      <th>Diplome_OE</th>\n",
       "      <th>Tech_LE</th>\n",
       "      <th>Tech_OE</th>\n",
       "    </tr>\n",
       "  </thead>\n",
       "  <tbody>\n",
       "    <tr>\n",
       "      <th>0</th>\n",
       "      <td>0</td>\n",
       "      <td>1.0</td>\n",
       "      <td>0.0</td>\n",
       "      <td>2.0</td>\n",
       "      <td>27</td>\n",
       "      <td>1.0</td>\n",
       "    </tr>\n",
       "    <tr>\n",
       "      <th>1</th>\n",
       "      <td>1</td>\n",
       "      <td>2.0</td>\n",
       "      <td>2.0</td>\n",
       "      <td>2.0</td>\n",
       "      <td>34</td>\n",
       "      <td>2.0</td>\n",
       "    </tr>\n",
       "    <tr>\n",
       "      <th>2</th>\n",
       "      <td>2</td>\n",
       "      <td>3.0</td>\n",
       "      <td>2.0</td>\n",
       "      <td>2.0</td>\n",
       "      <td>51</td>\n",
       "      <td>3.0</td>\n",
       "    </tr>\n",
       "    <tr>\n",
       "      <th>3</th>\n",
       "      <td>3</td>\n",
       "      <td>1.0</td>\n",
       "      <td>1.0</td>\n",
       "      <td>2.0</td>\n",
       "      <td>2</td>\n",
       "      <td>2.0</td>\n",
       "    </tr>\n",
       "    <tr>\n",
       "      <th>4</th>\n",
       "      <td>4</td>\n",
       "      <td>1.0</td>\n",
       "      <td>1.0</td>\n",
       "      <td>3.0</td>\n",
       "      <td>26</td>\n",
       "      <td>1.0</td>\n",
       "    </tr>\n",
       "    <tr>\n",
       "      <th>...</th>\n",
       "      <td>...</td>\n",
       "      <td>...</td>\n",
       "      <td>...</td>\n",
       "      <td>...</td>\n",
       "      <td>...</td>\n",
       "      <td>...</td>\n",
       "    </tr>\n",
       "    <tr>\n",
       "      <th>9577</th>\n",
       "      <td>7228</td>\n",
       "      <td>4.0</td>\n",
       "      <td>1.0</td>\n",
       "      <td>2.0</td>\n",
       "      <td>23</td>\n",
       "      <td>2.0</td>\n",
       "    </tr>\n",
       "    <tr>\n",
       "      <th>9578</th>\n",
       "      <td>7330</td>\n",
       "      <td>1.0</td>\n",
       "      <td>0.0</td>\n",
       "      <td>3.0</td>\n",
       "      <td>9</td>\n",
       "      <td>2.0</td>\n",
       "    </tr>\n",
       "    <tr>\n",
       "      <th>9579</th>\n",
       "      <td>9087</td>\n",
       "      <td>2.0</td>\n",
       "      <td>2.0</td>\n",
       "      <td>0.0</td>\n",
       "      <td>14</td>\n",
       "      <td>1.0</td>\n",
       "    </tr>\n",
       "    <tr>\n",
       "      <th>9580</th>\n",
       "      <td>9427</td>\n",
       "      <td>1.0</td>\n",
       "      <td>0.0</td>\n",
       "      <td>2.0</td>\n",
       "      <td>39</td>\n",
       "      <td>2.0</td>\n",
       "    </tr>\n",
       "    <tr>\n",
       "      <th>9581</th>\n",
       "      <td>9490</td>\n",
       "      <td>1.0</td>\n",
       "      <td>2.0</td>\n",
       "      <td>2.0</td>\n",
       "      <td>47</td>\n",
       "      <td>3.0</td>\n",
       "    </tr>\n",
       "  </tbody>\n",
       "</table>\n",
       "<p>9582 rows × 6 columns</p>\n",
       "</div>"
      ],
      "text/plain": [
       "      Candidate  Metier_Cat  XP_OE  Diplome_OE  Tech_LE  Tech_OE\n",
       "0             0         1.0    0.0         2.0       27      1.0\n",
       "1             1         2.0    2.0         2.0       34      2.0\n",
       "2             2         3.0    2.0         2.0       51      3.0\n",
       "3             3         1.0    1.0         2.0        2      2.0\n",
       "4             4         1.0    1.0         3.0       26      1.0\n",
       "...         ...         ...    ...         ...      ...      ...\n",
       "9577       7228         4.0    1.0         2.0       23      2.0\n",
       "9578       7330         1.0    0.0         3.0        9      2.0\n",
       "9579       9087         2.0    2.0         0.0       14      1.0\n",
       "9580       9427         1.0    0.0         2.0       39      2.0\n",
       "9581       9490         1.0    2.0         2.0       47      3.0\n",
       "\n",
       "[9582 rows x 6 columns]"
      ]
     },
     "execution_count": 290,
     "metadata": {},
     "output_type": "execute_result"
    }
   ],
   "source": [
    "# adding Tech_OE -> categories within top 5 tech : it will be easier for classification purposes\n",
    "df_merged = pd.merge(df_predicted, df_encoded_initial[['Candidate', 'Tech_OE']])\n",
    "df_merged"
   ]
  },
  {
   "cell_type": "code",
   "execution_count": 292,
   "id": "807b5e34",
   "metadata": {},
   "outputs": [
    {
     "data": {
      "text/plain": [
       "(9582, 4)"
      ]
     },
     "execution_count": 292,
     "metadata": {},
     "output_type": "execute_result"
    }
   ],
   "source": [
    "# Let's scale the data to smooth out the outliers\n",
    "\n",
    "data_scaler = StandardScaler()\n",
    "\n",
    "# we decide to keep Tech_LE (instead of the categorized one) to have more granularity\n",
    "scaled_data = data_scaler.fit_transform(df_merged.drop(['Candidate', 'Tech_OE'], axis=1)) \n",
    "scaled_data.shape"
   ]
  },
  {
   "cell_type": "code",
   "execution_count": 293,
   "id": "ff23ff72",
   "metadata": {},
   "outputs": [],
   "source": [
    "complete_clustering = linkage(scaled_data, method=\"complete\", metric=\"euclidean\")\n",
    "average_clustering = linkage(scaled_data, method=\"average\", metric=\"euclidean\")"
   ]
  },
  {
   "cell_type": "code",
   "execution_count": 206,
   "id": "2c78392d",
   "metadata": {},
   "outputs": [
    {
     "data": {
      "image/png": "[encoded data removed]",
      "text/plain": [
       "<Figure size 640x480 with 1 Axes>"
      ]
     },
     "metadata": {},
     "output_type": "display_data"
    }
   ],
   "source": [
    "dendrogram(complete_clustering)\n",
    "plt.show()"
   ]
  },
  {
   "cell_type": "code",
   "execution_count": 207,
   "id": "ccab7d38",
   "metadata": {},
   "outputs": [
    {
     "data": {
      "image/png": "[encoded data removed]",
      "text/plain": [
       "<Figure size 640x480 with 1 Axes>"
      ]
     },
     "metadata": {},
     "output_type": "display_data"
    }
   ],
   "source": [
    "dendrogram(average_clustering)\n",
    "plt.show()"
   ]
  },
  {
   "cell_type": "code",
   "execution_count": 295,
   "id": "ef30e967",
   "metadata": {},
   "outputs": [],
   "source": [
    "# Both methods suggest having 2 clusters - We're going with the complete linkage as it is less sensitive to outliers: \n",
    "\n",
    "cluster_labels = cut_tree(complete_clustering, n_clusters=2).reshape(-1, )\n",
    "df_merged[\"Cluster_Hier\"] = cluster_labels"
   ]
  },
  {
   "cell_type": "code",
   "execution_count": 219,
   "id": "54cf0328",
   "metadata": {},
   "outputs": [
    {
     "data": {
      "text/plain": [
       "<Axes: xlabel='Cluster_Hier', ylabel='Metier_Cat'>"
      ]
     },
     "execution_count": 219,
     "metadata": {},
     "output_type": "execute_result"
    },
    {
     "data": {
      "image/png": "[encoded data removed]",
      "text/plain": [
       "<Figure size 640x480 with 1 Axes>"
      ]
     },
     "metadata": {},
     "output_type": "display_data"
    }
   ],
   "source": [
    "# Visualize boxplot for each of the features\n",
    "\n",
    "sns.boxplot(x='Cluster_Hier', y='Metier_Cat', data=df_merged.drop(['Candidate' ,'Tech_LE'], axis=1))"
   ]
  },
  {
   "cell_type": "code",
   "execution_count": 220,
   "id": "e9ea4fd0",
   "metadata": {},
   "outputs": [
    {
     "data": {
      "text/plain": [
       "<Axes: xlabel='Cluster_Hier', ylabel='XP_OE'>"
      ]
     },
     "execution_count": 220,
     "metadata": {},
     "output_type": "execute_result"
    },
    {
     "data": {
      "image/png": "[encoded data removed]",
      "text/plain": [
       "<Figure size 640x480 with 1 Axes>"
      ]
     },
     "metadata": {},
     "output_type": "display_data"
    }
   ],
   "source": [
    "sns.boxplot(x='Cluster_Hier', y='XP_OE', data=df_merged.drop(['Candidate' ,'Tech_LE'], axis=1))"
   ]
  },
  {
   "cell_type": "code",
   "execution_count": 221,
   "id": "9784efe2",
   "metadata": {},
   "outputs": [
    {
     "data": {
      "text/plain": [
       "<Axes: xlabel='Cluster_Hier', ylabel='Diplome_OE'>"
      ]
     },
     "execution_count": 221,
     "metadata": {},
     "output_type": "execute_result"
    },
    {
     "data": {
      "image/png": "[encoded data removed]",
      "text/plain": [
       "<Figure size 640x480 with 1 Axes>"
      ]
     },
     "metadata": {},
     "output_type": "display_data"
    }
   ],
   "source": [
    "sns.boxplot(x='Cluster_Hier', y='Diplome_OE', data=df_merged.drop(['Candidate' ,'Tech_LE'], axis=1))"
   ]
  },
  {
   "cell_type": "code",
   "execution_count": 222,
   "id": "bd90427d",
   "metadata": {},
   "outputs": [
    {
     "data": {
      "text/plain": [
       "<Axes: xlabel='Cluster_Hier', ylabel='Tech_OE'>"
      ]
     },
     "execution_count": 222,
     "metadata": {},
     "output_type": "execute_result"
    },
    {
     "data": {
      "image/png": "[encoded data removed]",
      "text/plain": [
       "<Figure size 640x480 with 1 Axes>"
      ]
     },
     "metadata": {},
     "output_type": "display_data"
    }
   ],
   "source": [
    "sns.boxplot(x='Cluster_Hier', y='Tech_OE', data=df_merged.drop(['Candidate' ,'Tech_LE'], axis=1))"
   ]
  },
  {
   "cell_type": "code",
   "execution_count": 296,
   "id": "82855d17",
   "metadata": {},
   "outputs": [
    {
     "data": {
      "text/plain": [
       "0.20321186910212136"
      ]
     },
     "execution_count": 296,
     "metadata": {},
     "output_type": "execute_result"
    }
   ],
   "source": [
    "# Calculate Silhouette Score: closer to 1 the more the clusters are defined\n",
    "silhouette_avg = silhouette_score(scaled_data, cluster_labels)\n",
    "silhouette_avg"
   ]
  },
  {
   "cell_type": "markdown",
   "id": "a5329a46",
   "metadata": {},
   "source": [
    "Result shows that the clusters are not very well defined"
   ]
  },
  {
   "cell_type": "code",
   "execution_count": 315,
   "id": "e8d4278d",
   "metadata": {},
   "outputs": [
    {
     "data": {
      "text/html": [
       "<div>\n",
       "<style scoped>\n",
       "    .dataframe tbody tr th:only-of-type {\n",
       "        vertical-align: middle;\n",
       "    }\n",
       "\n",
       "    .dataframe tbody tr th {\n",
       "        vertical-align: top;\n",
       "    }\n",
       "\n",
       "    .dataframe thead th {\n",
       "        text-align: right;\n",
       "    }\n",
       "</style>\n",
       "<table border=\"1\" class=\"dataframe\">\n",
       "  <thead>\n",
       "    <tr style=\"text-align: right;\">\n",
       "      <th></th>\n",
       "      <th>Candidate</th>\n",
       "      <th>Metier_Cat</th>\n",
       "      <th>XP_OE</th>\n",
       "      <th>Diplome_OE</th>\n",
       "      <th>Tech_LE</th>\n",
       "      <th>Tech_OE</th>\n",
       "      <th>Cluster_Hier</th>\n",
       "    </tr>\n",
       "  </thead>\n",
       "  <tbody>\n",
       "    <tr>\n",
       "      <th>count</th>\n",
       "      <td>6405.000000</td>\n",
       "      <td>6405.000000</td>\n",
       "      <td>6405.000000</td>\n",
       "      <td>6405.000000</td>\n",
       "      <td>6405.000000</td>\n",
       "      <td>6405.000000</td>\n",
       "      <td>6405.0</td>\n",
       "    </tr>\n",
       "    <tr>\n",
       "      <th>mean</th>\n",
       "      <td>4825.751288</td>\n",
       "      <td>1.876347</td>\n",
       "      <td>1.281811</td>\n",
       "      <td>2.352537</td>\n",
       "      <td>32.122248</td>\n",
       "      <td>1.969087</td>\n",
       "      <td>0.0</td>\n",
       "    </tr>\n",
       "    <tr>\n",
       "      <th>std</th>\n",
       "      <td>2770.133390</td>\n",
       "      <td>1.076991</td>\n",
       "      <td>1.060942</td>\n",
       "      <td>0.477797</td>\n",
       "      <td>17.187694</td>\n",
       "      <td>0.933942</td>\n",
       "      <td>0.0</td>\n",
       "    </tr>\n",
       "    <tr>\n",
       "      <th>min</th>\n",
       "      <td>0.000000</td>\n",
       "      <td>1.000000</td>\n",
       "      <td>0.000000</td>\n",
       "      <td>2.000000</td>\n",
       "      <td>0.000000</td>\n",
       "      <td>0.000000</td>\n",
       "      <td>0.0</td>\n",
       "    </tr>\n",
       "    <tr>\n",
       "      <th>25%</th>\n",
       "      <td>2412.000000</td>\n",
       "      <td>1.000000</td>\n",
       "      <td>0.000000</td>\n",
       "      <td>2.000000</td>\n",
       "      <td>16.000000</td>\n",
       "      <td>1.000000</td>\n",
       "      <td>0.0</td>\n",
       "    </tr>\n",
       "    <tr>\n",
       "      <th>50%</th>\n",
       "      <td>4826.000000</td>\n",
       "      <td>1.000000</td>\n",
       "      <td>1.000000</td>\n",
       "      <td>2.000000</td>\n",
       "      <td>37.000000</td>\n",
       "      <td>2.000000</td>\n",
       "      <td>0.0</td>\n",
       "    </tr>\n",
       "    <tr>\n",
       "      <th>75%</th>\n",
       "      <td>7240.000000</td>\n",
       "      <td>3.000000</td>\n",
       "      <td>2.000000</td>\n",
       "      <td>3.000000</td>\n",
       "      <td>48.000000</td>\n",
       "      <td>3.000000</td>\n",
       "      <td>0.0</td>\n",
       "    </tr>\n",
       "    <tr>\n",
       "      <th>max</th>\n",
       "      <td>9581.000000</td>\n",
       "      <td>4.000000</td>\n",
       "      <td>3.000000</td>\n",
       "      <td>3.000000</td>\n",
       "      <td>56.000000</td>\n",
       "      <td>4.000000</td>\n",
       "      <td>0.0</td>\n",
       "    </tr>\n",
       "  </tbody>\n",
       "</table>\n",
       "</div>"
      ],
      "text/plain": [
       "         Candidate   Metier_Cat        XP_OE   Diplome_OE      Tech_LE  \\\n",
       "count  6405.000000  6405.000000  6405.000000  6405.000000  6405.000000   \n",
       "mean   4825.751288     1.876347     1.281811     2.352537    32.122248   \n",
       "std    2770.133390     1.076991     1.060942     0.477797    17.187694   \n",
       "min       0.000000     1.000000     0.000000     2.000000     0.000000   \n",
       "25%    2412.000000     1.000000     0.000000     2.000000    16.000000   \n",
       "50%    4826.000000     1.000000     1.000000     2.000000    37.000000   \n",
       "75%    7240.000000     3.000000     2.000000     3.000000    48.000000   \n",
       "max    9581.000000     4.000000     3.000000     3.000000    56.000000   \n",
       "\n",
       "           Tech_OE  Cluster_Hier  \n",
       "count  6405.000000        6405.0  \n",
       "mean      1.969087           0.0  \n",
       "std       0.933942           0.0  \n",
       "min       0.000000           0.0  \n",
       "25%       1.000000           0.0  \n",
       "50%       2.000000           0.0  \n",
       "75%       3.000000           0.0  \n",
       "max       4.000000           0.0  "
      ]
     },
     "execution_count": 315,
     "metadata": {},
     "output_type": "execute_result"
    }
   ],
   "source": [
    "stats_cluster0 = df_merged[df_merged.Cluster_Hier == 0].describe()\n",
    "stats_cluster0"
   ]
  },
  {
   "cell_type": "code",
   "execution_count": 316,
   "id": "ff18ef50",
   "metadata": {},
   "outputs": [
    {
     "data": {
      "text/html": [
       "<div>\n",
       "<style scoped>\n",
       "    .dataframe tbody tr th:only-of-type {\n",
       "        vertical-align: middle;\n",
       "    }\n",
       "\n",
       "    .dataframe tbody tr th {\n",
       "        vertical-align: top;\n",
       "    }\n",
       "\n",
       "    .dataframe thead th {\n",
       "        text-align: right;\n",
       "    }\n",
       "</style>\n",
       "<table border=\"1\" class=\"dataframe\">\n",
       "  <thead>\n",
       "    <tr style=\"text-align: right;\">\n",
       "      <th></th>\n",
       "      <th>Candidate</th>\n",
       "      <th>Metier_Cat</th>\n",
       "      <th>XP_OE</th>\n",
       "      <th>Diplome_OE</th>\n",
       "      <th>Tech_LE</th>\n",
       "      <th>Tech_OE</th>\n",
       "      <th>Cluster_Hier</th>\n",
       "    </tr>\n",
       "  </thead>\n",
       "  <tbody>\n",
       "    <tr>\n",
       "      <th>count</th>\n",
       "      <td>3177.000000</td>\n",
       "      <td>3177.000000</td>\n",
       "      <td>3177.000000</td>\n",
       "      <td>3177.000000</td>\n",
       "      <td>3177.000000</td>\n",
       "      <td>3177.000000</td>\n",
       "      <td>3177.0</td>\n",
       "    </tr>\n",
       "    <tr>\n",
       "      <th>mean</th>\n",
       "      <td>4719.431539</td>\n",
       "      <td>2.897073</td>\n",
       "      <td>1.264400</td>\n",
       "      <td>0.956878</td>\n",
       "      <td>25.520617</td>\n",
       "      <td>1.641486</td>\n",
       "      <td>1.0</td>\n",
       "    </tr>\n",
       "    <tr>\n",
       "      <th>std</th>\n",
       "      <td>2757.407406</td>\n",
       "      <td>1.180411</td>\n",
       "      <td>1.051553</td>\n",
       "      <td>0.748443</td>\n",
       "      <td>15.560021</td>\n",
       "      <td>0.826332</td>\n",
       "      <td>0.0</td>\n",
       "    </tr>\n",
       "    <tr>\n",
       "      <th>min</th>\n",
       "      <td>6.000000</td>\n",
       "      <td>1.000000</td>\n",
       "      <td>0.000000</td>\n",
       "      <td>0.000000</td>\n",
       "      <td>0.000000</td>\n",
       "      <td>0.000000</td>\n",
       "      <td>1.0</td>\n",
       "    </tr>\n",
       "    <tr>\n",
       "      <th>25%</th>\n",
       "      <td>2356.000000</td>\n",
       "      <td>2.000000</td>\n",
       "      <td>0.000000</td>\n",
       "      <td>0.000000</td>\n",
       "      <td>13.000000</td>\n",
       "      <td>1.000000</td>\n",
       "      <td>1.0</td>\n",
       "    </tr>\n",
       "    <tr>\n",
       "      <th>50%</th>\n",
       "      <td>4714.000000</td>\n",
       "      <td>3.000000</td>\n",
       "      <td>1.000000</td>\n",
       "      <td>1.000000</td>\n",
       "      <td>24.000000</td>\n",
       "      <td>2.000000</td>\n",
       "      <td>1.0</td>\n",
       "    </tr>\n",
       "    <tr>\n",
       "      <th>75%</th>\n",
       "      <td>7088.000000</td>\n",
       "      <td>4.000000</td>\n",
       "      <td>2.000000</td>\n",
       "      <td>2.000000</td>\n",
       "      <td>37.000000</td>\n",
       "      <td>2.000000</td>\n",
       "      <td>1.0</td>\n",
       "    </tr>\n",
       "    <tr>\n",
       "      <th>max</th>\n",
       "      <td>9575.000000</td>\n",
       "      <td>4.000000</td>\n",
       "      <td>3.000000</td>\n",
       "      <td>2.000000</td>\n",
       "      <td>56.000000</td>\n",
       "      <td>4.000000</td>\n",
       "      <td>1.0</td>\n",
       "    </tr>\n",
       "  </tbody>\n",
       "</table>\n",
       "</div>"
      ],
      "text/plain": [
       "         Candidate   Metier_Cat        XP_OE   Diplome_OE      Tech_LE  \\\n",
       "count  3177.000000  3177.000000  3177.000000  3177.000000  3177.000000   \n",
       "mean   4719.431539     2.897073     1.264400     0.956878    25.520617   \n",
       "std    2757.407406     1.180411     1.051553     0.748443    15.560021   \n",
       "min       6.000000     1.000000     0.000000     0.000000     0.000000   \n",
       "25%    2356.000000     2.000000     0.000000     0.000000    13.000000   \n",
       "50%    4714.000000     3.000000     1.000000     1.000000    24.000000   \n",
       "75%    7088.000000     4.000000     2.000000     2.000000    37.000000   \n",
       "max    9575.000000     4.000000     3.000000     2.000000    56.000000   \n",
       "\n",
       "           Tech_OE  Cluster_Hier  \n",
       "count  3177.000000        3177.0  \n",
       "mean      1.641486           1.0  \n",
       "std       0.826332           0.0  \n",
       "min       0.000000           1.0  \n",
       "25%       1.000000           1.0  \n",
       "50%       2.000000           1.0  \n",
       "75%       2.000000           1.0  \n",
       "max       4.000000           1.0  "
      ]
     },
     "execution_count": 316,
     "metadata": {},
     "output_type": "execute_result"
    }
   ],
   "source": [
    "stats_cluster1 = df_merged[df_merged.Cluster_Hier == 1].describe()\n",
    "stats_cluster1"
   ]
  },
  {
   "cell_type": "code",
   "execution_count": 321,
   "id": "b79ad9a6",
   "metadata": {},
   "outputs": [
    {
     "data": {
      "text/plain": [
       "array([2., 3., 1., 0.])"
      ]
     },
     "execution_count": 321,
     "metadata": {},
     "output_type": "execute_result"
    }
   ],
   "source": [
    "df_merged.Diplome_OE.unique()"
   ]
  },
  {
   "cell_type": "markdown",
   "id": "822a1623",
   "metadata": {},
   "source": [
    "##### Interpretation\n",
    "* Hierarchical method used distance: the observations who have smaller distance will be considered in the same cluster\n",
    "* We didn't have to go from a prior - meaning we didn't start by specifying the numbers of clusters\n",
    "* Taking the Complete Linkage Dendrogram we observed two clusters\n",
    "* However, the second one continues fewer observations and the Silhouette score is very low (mainly caused by the outliers)\n",
    "* When we look at the observations stats in each of the cluster :\n",
    "    * Cluster 0: We have mostly Data Scientists and Data architects with the majority being Senior with more than 3 years of experience. The majority has a PHD degree. And most of them at least know 3 of the top 5 technologies\n",
    "    * Cluster 1: We have mostly Data Engineers with the majority also being seniors. Most of them have Master's degree and they mostly know 2 of the top 5 technologies\n",
    "    \n",
    "* CLUSTER 0 -> ADVANCED DATA SCIENTISTS PROFILES\n",
    "* CLUSTER 1 -> EXPERIENCED DATA ENGINEERS PROFILES\n",
    "\n",
    "Limits:\n",
    "* However, as the test shows the definition between the two clusters still needs to be refined\n",
    "* In addition, we have outliers in our dataset that were kept. Thus, we will test a second algorithm less sensitive"
   ]
  },
  {
   "cell_type": "markdown",
   "id": "de4acd4f",
   "metadata": {},
   "source": [
    "#### Non-hierarchical clustering: k-means"
   ]
  },
  {
   "cell_type": "code",
   "execution_count": 322,
   "id": "b0f7c289",
   "metadata": {},
   "outputs": [
    {
     "data": {
      "image/png": "[encoded data removed]",
      "text/plain": [
       "<Figure size 640x480 with 1 Axes>"
      ]
     },
     "metadata": {},
     "output_type": "display_data"
    }
   ],
   "source": [
    "# Start by choosing the number of clusters using the Elbow method\n",
    "\n",
    "inertias = []\n",
    "\n",
    "X = scaled_data #to fit\n",
    "\n",
    "for i in range(1,11):\n",
    "    kmeans = KMeans(n_clusters=i)\n",
    "    kmeans.fit(X)\n",
    "    \n",
    "    inertias.append(kmeans.inertia_)\n",
    "\n",
    "# Plot Inertias\n",
    "plt.plot(range(1,11), inertias, marker='o')\n",
    "plt.title('Elbow method')\n",
    "plt.xlabel('Number of clusters')\n",
    "plt.ylabel('Inertia')\n",
    "\n",
    "plt.show()"
   ]
  },
  {
   "cell_type": "markdown",
   "id": "67c52645",
   "metadata": {},
   "source": [
    "It shows that 2 is the ideal number - so we will set k=2 (This is coherent with the previous algorithm)"
   ]
  },
  {
   "cell_type": "code",
   "execution_count": 323,
   "id": "1fb0e16a",
   "metadata": {},
   "outputs": [
    {
     "data": {
      "text/plain": [
       "0.2356593380472473"
      ]
     },
     "execution_count": 323,
     "metadata": {},
     "output_type": "execute_result"
    }
   ],
   "source": [
    "# Compute Silhoutte Score\n",
    "\n",
    "kmeans = KMeans(n_clusters=2)\n",
    "kmeans.fit(X)\n",
    "silhouette_score(X, kmeans.labels_)"
   ]
  },
  {
   "cell_type": "markdown",
   "id": "d4c2cea5",
   "metadata": {},
   "source": [
    "Results with K-means give a slightly higher result - but still the performance is very low"
   ]
  },
  {
   "cell_type": "code",
   "execution_count": 324,
   "id": "a6b12367",
   "metadata": {},
   "outputs": [
    {
     "data": {
      "text/html": [
       "<div>\n",
       "<style scoped>\n",
       "    .dataframe tbody tr th:only-of-type {\n",
       "        vertical-align: middle;\n",
       "    }\n",
       "\n",
       "    .dataframe tbody tr th {\n",
       "        vertical-align: top;\n",
       "    }\n",
       "\n",
       "    .dataframe thead th {\n",
       "        text-align: right;\n",
       "    }\n",
       "</style>\n",
       "<table border=\"1\" class=\"dataframe\">\n",
       "  <thead>\n",
       "    <tr style=\"text-align: right;\">\n",
       "      <th></th>\n",
       "      <th>Candidate</th>\n",
       "      <th>Metier_Cat</th>\n",
       "      <th>XP_OE</th>\n",
       "      <th>Diplome_OE</th>\n",
       "      <th>Tech_LE</th>\n",
       "      <th>Tech_OE</th>\n",
       "      <th>Cluster_Hier</th>\n",
       "      <th>Cluster_kmeans</th>\n",
       "    </tr>\n",
       "  </thead>\n",
       "  <tbody>\n",
       "    <tr>\n",
       "      <th>0</th>\n",
       "      <td>0</td>\n",
       "      <td>1.0</td>\n",
       "      <td>0.0</td>\n",
       "      <td>2.0</td>\n",
       "      <td>27</td>\n",
       "      <td>1.0</td>\n",
       "      <td>0</td>\n",
       "      <td>1</td>\n",
       "    </tr>\n",
       "    <tr>\n",
       "      <th>1</th>\n",
       "      <td>1</td>\n",
       "      <td>2.0</td>\n",
       "      <td>2.0</td>\n",
       "      <td>2.0</td>\n",
       "      <td>34</td>\n",
       "      <td>2.0</td>\n",
       "      <td>0</td>\n",
       "      <td>1</td>\n",
       "    </tr>\n",
       "    <tr>\n",
       "      <th>2</th>\n",
       "      <td>2</td>\n",
       "      <td>3.0</td>\n",
       "      <td>2.0</td>\n",
       "      <td>2.0</td>\n",
       "      <td>51</td>\n",
       "      <td>3.0</td>\n",
       "      <td>0</td>\n",
       "      <td>0</td>\n",
       "    </tr>\n",
       "    <tr>\n",
       "      <th>3</th>\n",
       "      <td>3</td>\n",
       "      <td>1.0</td>\n",
       "      <td>1.0</td>\n",
       "      <td>2.0</td>\n",
       "      <td>2</td>\n",
       "      <td>2.0</td>\n",
       "      <td>0</td>\n",
       "      <td>1</td>\n",
       "    </tr>\n",
       "    <tr>\n",
       "      <th>4</th>\n",
       "      <td>4</td>\n",
       "      <td>1.0</td>\n",
       "      <td>1.0</td>\n",
       "      <td>3.0</td>\n",
       "      <td>26</td>\n",
       "      <td>1.0</td>\n",
       "      <td>0</td>\n",
       "      <td>1</td>\n",
       "    </tr>\n",
       "    <tr>\n",
       "      <th>...</th>\n",
       "      <td>...</td>\n",
       "      <td>...</td>\n",
       "      <td>...</td>\n",
       "      <td>...</td>\n",
       "      <td>...</td>\n",
       "      <td>...</td>\n",
       "      <td>...</td>\n",
       "      <td>...</td>\n",
       "    </tr>\n",
       "    <tr>\n",
       "      <th>9577</th>\n",
       "      <td>7228</td>\n",
       "      <td>4.0</td>\n",
       "      <td>1.0</td>\n",
       "      <td>2.0</td>\n",
       "      <td>23</td>\n",
       "      <td>2.0</td>\n",
       "      <td>1</td>\n",
       "      <td>0</td>\n",
       "    </tr>\n",
       "    <tr>\n",
       "      <th>9578</th>\n",
       "      <td>7330</td>\n",
       "      <td>1.0</td>\n",
       "      <td>0.0</td>\n",
       "      <td>3.0</td>\n",
       "      <td>9</td>\n",
       "      <td>2.0</td>\n",
       "      <td>0</td>\n",
       "      <td>1</td>\n",
       "    </tr>\n",
       "    <tr>\n",
       "      <th>9579</th>\n",
       "      <td>9087</td>\n",
       "      <td>2.0</td>\n",
       "      <td>2.0</td>\n",
       "      <td>0.0</td>\n",
       "      <td>14</td>\n",
       "      <td>1.0</td>\n",
       "      <td>1</td>\n",
       "      <td>0</td>\n",
       "    </tr>\n",
       "    <tr>\n",
       "      <th>9580</th>\n",
       "      <td>9427</td>\n",
       "      <td>1.0</td>\n",
       "      <td>0.0</td>\n",
       "      <td>2.0</td>\n",
       "      <td>39</td>\n",
       "      <td>2.0</td>\n",
       "      <td>0</td>\n",
       "      <td>1</td>\n",
       "    </tr>\n",
       "    <tr>\n",
       "      <th>9581</th>\n",
       "      <td>9490</td>\n",
       "      <td>1.0</td>\n",
       "      <td>2.0</td>\n",
       "      <td>2.0</td>\n",
       "      <td>47</td>\n",
       "      <td>3.0</td>\n",
       "      <td>0</td>\n",
       "      <td>1</td>\n",
       "    </tr>\n",
       "  </tbody>\n",
       "</table>\n",
       "<p>9582 rows × 8 columns</p>\n",
       "</div>"
      ],
      "text/plain": [
       "      Candidate  Metier_Cat  XP_OE  Diplome_OE  Tech_LE  Tech_OE  \\\n",
       "0             0         1.0    0.0         2.0       27      1.0   \n",
       "1             1         2.0    2.0         2.0       34      2.0   \n",
       "2             2         3.0    2.0         2.0       51      3.0   \n",
       "3             3         1.0    1.0         2.0        2      2.0   \n",
       "4             4         1.0    1.0         3.0       26      1.0   \n",
       "...         ...         ...    ...         ...      ...      ...   \n",
       "9577       7228         4.0    1.0         2.0       23      2.0   \n",
       "9578       7330         1.0    0.0         3.0        9      2.0   \n",
       "9579       9087         2.0    2.0         0.0       14      1.0   \n",
       "9580       9427         1.0    0.0         2.0       39      2.0   \n",
       "9581       9490         1.0    2.0         2.0       47      3.0   \n",
       "\n",
       "      Cluster_Hier  Cluster_kmeans  \n",
       "0                0               1  \n",
       "1                0               1  \n",
       "2                0               0  \n",
       "3                0               1  \n",
       "4                0               1  \n",
       "...            ...             ...  \n",
       "9577             1               0  \n",
       "9578             0               1  \n",
       "9579             1               0  \n",
       "9580             0               1  \n",
       "9581             0               1  \n",
       "\n",
       "[9582 rows x 8 columns]"
      ]
     },
     "execution_count": 324,
     "metadata": {},
     "output_type": "execute_result"
    }
   ],
   "source": [
    "# Add clusters to the final table\n",
    "kmeans = KMeans(n_clusters = 2)\n",
    "kmeans.fit(df_merged.drop(['Candidate', 'Tech_LE', 'Cluster_Hier'], axis=1))\n",
    "\n",
    "df_merged[\"Cluster_kmeans\"] = kmeans.labels_\n",
    "df_merged"
   ]
  },
  {
   "cell_type": "code",
   "execution_count": 325,
   "id": "2959818b",
   "metadata": {},
   "outputs": [
    {
     "name": "stderr",
     "output_type": "stream",
     "text": [
      "C:\\Users\\marianne.chehade\\AppData\\Local\\Temp\\ipykernel_2672\\2022341766.py:4: UserWarning: No data for colormapping provided via 'c'. Parameters 'cmap' will be ignored\n",
      "  axs[0].scatter(df_merged['Cluster_kmeans'], df_merged['Tech_OE'], s=50, cmap='viridis')\n",
      "C:\\Users\\marianne.chehade\\AppData\\Local\\Temp\\ipykernel_2672\\2022341766.py:8: UserWarning: No data for colormapping provided via 'c'. Parameters 'cmap' will be ignored\n",
      "  axs[1].scatter(df_merged['Cluster_kmeans'], df_merged['XP_OE'], s=50, cmap='viridis')\n",
      "C:\\Users\\marianne.chehade\\AppData\\Local\\Temp\\ipykernel_2672\\2022341766.py:12: UserWarning: No data for colormapping provided via 'c'. Parameters 'cmap' will be ignored\n",
      "  axs[2].scatter(df_merged['Cluster_kmeans'], df_merged['Diplome_OE'], s=50, cmap='viridis')\n",
      "C:\\Users\\marianne.chehade\\AppData\\Local\\Temp\\ipykernel_2672\\2022341766.py:16: UserWarning: No data for colormapping provided via 'c'. Parameters 'cmap' will be ignored\n",
      "  axs[3].scatter(df_merged['Cluster_kmeans'], df_merged['Metier_Cat'], s=50, cmap='viridis')\n"
     ]
    },
    {
     "data": {
      "image/png": "[encoded data removed]",
      "text/plain": [
       "<Figure size 1500x500 with 4 Axes>"
      ]
     },
     "metadata": {},
     "output_type": "display_data"
    }
   ],
   "source": [
    "# Scatter plot\n",
    "fig, axs = plt.subplots(1, 4, figsize=(15, 5))\n",
    "\n",
    "axs[0].scatter(df_merged['Cluster_kmeans'], df_merged['Tech_OE'], s=50, cmap='viridis')\n",
    "axs[0].scatter(df_merged['Cluster_kmeans'], df_merged['Tech_OE'], c = kmeans.labels_)\n",
    "axs[0].set_title('Tech OE')\n",
    "\n",
    "axs[1].scatter(df_merged['Cluster_kmeans'], df_merged['XP_OE'], s=50, cmap='viridis')\n",
    "axs[1].scatter(df_merged['Cluster_kmeans'], df_merged['XP_OE'], c = kmeans.labels_)\n",
    "axs[1].set_title('XP OE')\n",
    "\n",
    "axs[2].scatter(df_merged['Cluster_kmeans'], df_merged['Diplome_OE'], s=50, cmap='viridis')\n",
    "axs[2].scatter(df_merged['Cluster_kmeans'], df_merged['Diplome_OE'], c = kmeans.labels_)\n",
    "axs[2].set_title('Diplome OE')\n",
    "\n",
    "axs[3].scatter(df_merged['Cluster_kmeans'], df_merged['Metier_Cat'], s=50, cmap='viridis')\n",
    "axs[3].scatter(df_merged['Cluster_kmeans'], df_merged['Metier_Cat'], c = kmeans.labels_)\n",
    "axs[3].set_title('Diplome Metier_Cat')\n",
    "\n",
    "plt.show()"
   ]
  },
  {
   "cell_type": "code",
   "execution_count": 326,
   "id": "c4e60c12",
   "metadata": {},
   "outputs": [
    {
     "data": {
      "text/html": [
       "<div>\n",
       "<style scoped>\n",
       "    .dataframe tbody tr th:only-of-type {\n",
       "        vertical-align: middle;\n",
       "    }\n",
       "\n",
       "    .dataframe tbody tr th {\n",
       "        vertical-align: top;\n",
       "    }\n",
       "\n",
       "    .dataframe thead th {\n",
       "        text-align: right;\n",
       "    }\n",
       "</style>\n",
       "<table border=\"1\" class=\"dataframe\">\n",
       "  <thead>\n",
       "    <tr style=\"text-align: right;\">\n",
       "      <th></th>\n",
       "      <th>Candidate</th>\n",
       "      <th>Metier_Cat</th>\n",
       "      <th>XP_OE</th>\n",
       "      <th>Diplome_OE</th>\n",
       "      <th>Tech_LE</th>\n",
       "      <th>Tech_OE</th>\n",
       "      <th>Cluster_Hier</th>\n",
       "      <th>Cluster_kmeans</th>\n",
       "    </tr>\n",
       "  </thead>\n",
       "  <tbody>\n",
       "    <tr>\n",
       "      <th>count</th>\n",
       "      <td>4417.000000</td>\n",
       "      <td>4417.000000</td>\n",
       "      <td>4417.000000</td>\n",
       "      <td>4417.000000</td>\n",
       "      <td>4417.000000</td>\n",
       "      <td>4417.000000</td>\n",
       "      <td>4417.000000</td>\n",
       "      <td>4417.0</td>\n",
       "    </tr>\n",
       "    <tr>\n",
       "      <th>mean</th>\n",
       "      <td>4814.361558</td>\n",
       "      <td>3.331899</td>\n",
       "      <td>1.720398</td>\n",
       "      <td>1.642291</td>\n",
       "      <td>27.131764</td>\n",
       "      <td>1.698211</td>\n",
       "      <td>0.517319</td>\n",
       "      <td>0.0</td>\n",
       "    </tr>\n",
       "    <tr>\n",
       "      <th>std</th>\n",
       "      <td>2763.679201</td>\n",
       "      <td>0.789055</td>\n",
       "      <td>1.046657</td>\n",
       "      <td>0.912973</td>\n",
       "      <td>16.522022</td>\n",
       "      <td>0.914942</td>\n",
       "      <td>0.499757</td>\n",
       "      <td>0.0</td>\n",
       "    </tr>\n",
       "    <tr>\n",
       "      <th>min</th>\n",
       "      <td>2.000000</td>\n",
       "      <td>2.000000</td>\n",
       "      <td>0.000000</td>\n",
       "      <td>0.000000</td>\n",
       "      <td>0.000000</td>\n",
       "      <td>0.000000</td>\n",
       "      <td>0.000000</td>\n",
       "      <td>0.0</td>\n",
       "    </tr>\n",
       "    <tr>\n",
       "      <th>25%</th>\n",
       "      <td>2452.000000</td>\n",
       "      <td>3.000000</td>\n",
       "      <td>1.000000</td>\n",
       "      <td>1.000000</td>\n",
       "      <td>13.000000</td>\n",
       "      <td>1.000000</td>\n",
       "      <td>0.000000</td>\n",
       "      <td>0.0</td>\n",
       "    </tr>\n",
       "    <tr>\n",
       "      <th>50%</th>\n",
       "      <td>4873.000000</td>\n",
       "      <td>4.000000</td>\n",
       "      <td>2.000000</td>\n",
       "      <td>2.000000</td>\n",
       "      <td>25.000000</td>\n",
       "      <td>2.000000</td>\n",
       "      <td>1.000000</td>\n",
       "      <td>0.0</td>\n",
       "    </tr>\n",
       "    <tr>\n",
       "      <th>75%</th>\n",
       "      <td>7204.000000</td>\n",
       "      <td>4.000000</td>\n",
       "      <td>3.000000</td>\n",
       "      <td>2.000000</td>\n",
       "      <td>40.000000</td>\n",
       "      <td>2.000000</td>\n",
       "      <td>1.000000</td>\n",
       "      <td>0.0</td>\n",
       "    </tr>\n",
       "    <tr>\n",
       "      <th>max</th>\n",
       "      <td>9575.000000</td>\n",
       "      <td>4.000000</td>\n",
       "      <td>3.000000</td>\n",
       "      <td>3.000000</td>\n",
       "      <td>56.000000</td>\n",
       "      <td>4.000000</td>\n",
       "      <td>1.000000</td>\n",
       "      <td>0.0</td>\n",
       "    </tr>\n",
       "  </tbody>\n",
       "</table>\n",
       "</div>"
      ],
      "text/plain": [
       "         Candidate   Metier_Cat        XP_OE   Diplome_OE      Tech_LE  \\\n",
       "count  4417.000000  4417.000000  4417.000000  4417.000000  4417.000000   \n",
       "mean   4814.361558     3.331899     1.720398     1.642291    27.131764   \n",
       "std    2763.679201     0.789055     1.046657     0.912973    16.522022   \n",
       "min       2.000000     2.000000     0.000000     0.000000     0.000000   \n",
       "25%    2452.000000     3.000000     1.000000     1.000000    13.000000   \n",
       "50%    4873.000000     4.000000     2.000000     2.000000    25.000000   \n",
       "75%    7204.000000     4.000000     3.000000     2.000000    40.000000   \n",
       "max    9575.000000     4.000000     3.000000     3.000000    56.000000   \n",
       "\n",
       "           Tech_OE  Cluster_Hier  Cluster_kmeans  \n",
       "count  4417.000000   4417.000000          4417.0  \n",
       "mean      1.698211      0.517319             0.0  \n",
       "std       0.914942      0.499757             0.0  \n",
       "min       0.000000      0.000000             0.0  \n",
       "25%       1.000000      0.000000             0.0  \n",
       "50%       2.000000      1.000000             0.0  \n",
       "75%       2.000000      1.000000             0.0  \n",
       "max       4.000000      1.000000             0.0  "
      ]
     },
     "execution_count": 326,
     "metadata": {},
     "output_type": "execute_result"
    }
   ],
   "source": [
    "stats_cluster0 = df_merged[df_merged.Cluster_kmeans == 0].describe()\n",
    "stats_cluster0"
   ]
  },
  {
   "cell_type": "code",
   "execution_count": 327,
   "id": "54b242ab",
   "metadata": {},
   "outputs": [
    {
     "data": {
      "text/html": [
       "<div>\n",
       "<style scoped>\n",
       "    .dataframe tbody tr th:only-of-type {\n",
       "        vertical-align: middle;\n",
       "    }\n",
       "\n",
       "    .dataframe tbody tr th {\n",
       "        vertical-align: top;\n",
       "    }\n",
       "\n",
       "    .dataframe thead th {\n",
       "        text-align: right;\n",
       "    }\n",
       "</style>\n",
       "<table border=\"1\" class=\"dataframe\">\n",
       "  <thead>\n",
       "    <tr style=\"text-align: right;\">\n",
       "      <th></th>\n",
       "      <th>Candidate</th>\n",
       "      <th>Metier_Cat</th>\n",
       "      <th>XP_OE</th>\n",
       "      <th>Diplome_OE</th>\n",
       "      <th>Tech_LE</th>\n",
       "      <th>Tech_OE</th>\n",
       "      <th>Cluster_Hier</th>\n",
       "      <th>Cluster_kmeans</th>\n",
       "    </tr>\n",
       "  </thead>\n",
       "  <tbody>\n",
       "    <tr>\n",
       "      <th>count</th>\n",
       "      <td>3177.000000</td>\n",
       "      <td>3177.000000</td>\n",
       "      <td>3177.000000</td>\n",
       "      <td>3177.000000</td>\n",
       "      <td>3177.000000</td>\n",
       "      <td>3177.000000</td>\n",
       "      <td>3177.0</td>\n",
       "      <td>3177.000000</td>\n",
       "    </tr>\n",
       "    <tr>\n",
       "      <th>mean</th>\n",
       "      <td>4719.431539</td>\n",
       "      <td>2.897073</td>\n",
       "      <td>1.264400</td>\n",
       "      <td>0.956878</td>\n",
       "      <td>25.520617</td>\n",
       "      <td>1.641486</td>\n",
       "      <td>1.0</td>\n",
       "      <td>0.280768</td>\n",
       "    </tr>\n",
       "    <tr>\n",
       "      <th>std</th>\n",
       "      <td>2757.407406</td>\n",
       "      <td>1.180411</td>\n",
       "      <td>1.051553</td>\n",
       "      <td>0.748443</td>\n",
       "      <td>15.560021</td>\n",
       "      <td>0.826332</td>\n",
       "      <td>0.0</td>\n",
       "      <td>0.449445</td>\n",
       "    </tr>\n",
       "    <tr>\n",
       "      <th>min</th>\n",
       "      <td>6.000000</td>\n",
       "      <td>1.000000</td>\n",
       "      <td>0.000000</td>\n",
       "      <td>0.000000</td>\n",
       "      <td>0.000000</td>\n",
       "      <td>0.000000</td>\n",
       "      <td>1.0</td>\n",
       "      <td>0.000000</td>\n",
       "    </tr>\n",
       "    <tr>\n",
       "      <th>25%</th>\n",
       "      <td>2356.000000</td>\n",
       "      <td>2.000000</td>\n",
       "      <td>0.000000</td>\n",
       "      <td>0.000000</td>\n",
       "      <td>13.000000</td>\n",
       "      <td>1.000000</td>\n",
       "      <td>1.0</td>\n",
       "      <td>0.000000</td>\n",
       "    </tr>\n",
       "    <tr>\n",
       "      <th>50%</th>\n",
       "      <td>4714.000000</td>\n",
       "      <td>3.000000</td>\n",
       "      <td>1.000000</td>\n",
       "      <td>1.000000</td>\n",
       "      <td>24.000000</td>\n",
       "      <td>2.000000</td>\n",
       "      <td>1.0</td>\n",
       "      <td>0.000000</td>\n",
       "    </tr>\n",
       "    <tr>\n",
       "      <th>75%</th>\n",
       "      <td>7088.000000</td>\n",
       "      <td>4.000000</td>\n",
       "      <td>2.000000</td>\n",
       "      <td>2.000000</td>\n",
       "      <td>37.000000</td>\n",
       "      <td>2.000000</td>\n",
       "      <td>1.0</td>\n",
       "      <td>1.000000</td>\n",
       "    </tr>\n",
       "    <tr>\n",
       "      <th>max</th>\n",
       "      <td>9575.000000</td>\n",
       "      <td>4.000000</td>\n",
       "      <td>3.000000</td>\n",
       "      <td>2.000000</td>\n",
       "      <td>56.000000</td>\n",
       "      <td>4.000000</td>\n",
       "      <td>1.0</td>\n",
       "      <td>1.000000</td>\n",
       "    </tr>\n",
       "  </tbody>\n",
       "</table>\n",
       "</div>"
      ],
      "text/plain": [
       "         Candidate   Metier_Cat        XP_OE   Diplome_OE      Tech_LE  \\\n",
       "count  3177.000000  3177.000000  3177.000000  3177.000000  3177.000000   \n",
       "mean   4719.431539     2.897073     1.264400     0.956878    25.520617   \n",
       "std    2757.407406     1.180411     1.051553     0.748443    15.560021   \n",
       "min       6.000000     1.000000     0.000000     0.000000     0.000000   \n",
       "25%    2356.000000     2.000000     0.000000     0.000000    13.000000   \n",
       "50%    4714.000000     3.000000     1.000000     1.000000    24.000000   \n",
       "75%    7088.000000     4.000000     2.000000     2.000000    37.000000   \n",
       "max    9575.000000     4.000000     3.000000     2.000000    56.000000   \n",
       "\n",
       "           Tech_OE  Cluster_Hier  Cluster_kmeans  \n",
       "count  3177.000000        3177.0     3177.000000  \n",
       "mean      1.641486           1.0        0.280768  \n",
       "std       0.826332           0.0        0.449445  \n",
       "min       0.000000           1.0        0.000000  \n",
       "25%       1.000000           1.0        0.000000  \n",
       "50%       2.000000           1.0        0.000000  \n",
       "75%       2.000000           1.0        1.000000  \n",
       "max       4.000000           1.0        1.000000  "
      ]
     },
     "execution_count": 327,
     "metadata": {},
     "output_type": "execute_result"
    }
   ],
   "source": [
    "stats_cluster1 = df_merged[df_merged.Cluster_Hier == 1].describe()\n",
    "stats_cluster1"
   ]
  },
  {
   "cell_type": "markdown",
   "id": "a2e452a1",
   "metadata": {},
   "source": [
    "### Interpretation, Limits & Next Steps"
   ]
  },
  {
   "cell_type": "markdown",
   "id": "5ae59c33",
   "metadata": {},
   "source": [
    "* Non-Hierarchical Kmeans method where each observation will belong the cluster with closed mean. In our example we took 2 clusters.\n",
    "* Our Silhouette score is still low - meaning that it wasn't only the outliers impacting the classification. We need to revue our features engineering\n",
    "* When looking into the results of this classification:\n",
    "    * Cluster 0 : Data engineers mostly with expert level of experience. Most of them have masters' degrees and they know at least 2 of the top technologies\n",
    "    * Cluster 1: Mostly Data Engineers as well with senior level of experience mostly and lot's of confirmed. They have master's most of them and also know at least 2 of the top technologies\n",
    "    \n",
    "CLUSTER 0 : EXPERIMENTED PROFILES \\\n",
    "CLUSTER 1 : SENIOR PROFILES\n",
    "\n",
    "We notice that the kmeans level was more discriminant by the Experience feature, unlike the hierarichal method which mostly divided the observations based on the Job Type.\n",
    "\n",
    "Limitations and next steps:\n",
    "* In order to increase the accuracy of the different methods we need to rework on some of the features:\n",
    "    * Clean the outliers form the dataset: Candidates with 0 years of experience (depending on the purpose of the stufy they might seem irrelevant), profiles with years of experiences > 5 or 7 , profiles who are Lead DS but have 0 years of experience or 0 education \n",
    "    * Rework on the Technologies variable. Maybe have 1 column by the top 5 technologies: python(0,1), R(0,1), Java(0,1), etc. Or have a ranking by the top technoligies used in each Job type. \n",
    "    * Add Company sectors as it can add a new information to the segmentation and conclude new profiles (maybe in Pharma there are more DE, using X technology)\n",
    "    \n",
    "* This is an interative process to get the best defined clusters."
   ]
  },
  {
   "cell_type": "code",
   "execution_count": null,
   "id": "f118f1da",
   "metadata": {},
   "outputs": [],
   "source": []
  }
 ],
 "metadata": {
  "kernelspec": {
   "display_name": "Python 3 (ipykernel)",
   "language": "python",
   "name": "python3"
  },
  "language_info": {
   "codemirror_mode": {
    "name": "ipython",
    "version": 3
   },
   "file_extension": ".py",
   "mimetype": "text/x-python",
   "name": "python",
   "nbconvert_exporter": "python",
   "pygments_lexer": "ipython3",
   "version": "3.11.7"
  }
 },
 "nbformat": 4,
 "nbformat_minor": 5
}
